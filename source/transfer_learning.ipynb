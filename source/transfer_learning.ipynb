{
 "cells": [
  {
   "cell_type": "code",
   "execution_count": 1,
   "metadata": {},
   "outputs": [],
   "source": [
    "%load_ext autoreload\n",
    "%autoreload 2\n",
    "\n",
    "%matplotlib inline"
   ]
  },
  {
   "cell_type": "code",
   "execution_count": 2,
   "metadata": {},
   "outputs": [],
   "source": [
    "import torch\n",
    "from torch import *\n",
    "\n",
    "#let me be on my mac\n",
    "def cuda(self, device=None, non_blocking=False) : return self\n",
    "torch.Tensor.cuda = cuda"
   ]
  },
  {
   "cell_type": "code",
   "execution_count": 3,
   "metadata": {},
   "outputs": [],
   "source": [
    "from lib.callbacks import *\n",
    "from lib.model import *\n",
    "from lib.data import *\n",
    "from lib.optimizers import *\n",
    "from pathlib import Path"
   ]
  },
  {
   "cell_type": "markdown",
   "metadata": {},
   "source": [
    "## create basemodel on imagenette"
   ]
  },
  {
   "cell_type": "code",
   "execution_count": 4,
   "metadata": {},
   "outputs": [
    {
     "data": {
      "text/plain": [
       "PosixPath('/Users/kasparlund/.fastai/data/imagenette-160')"
      ]
     },
     "execution_count": 4,
     "metadata": {},
     "output_type": "execute_result"
    }
   ],
   "source": [
    "#path = datasets.untar_data(datasets.URLs.IMAGEWOOF_160)\n",
    "path = untar_data(datasets.URLs.IMAGENETTE_160)\n",
    "path"
   ]
  },
  {
   "cell_type": "code",
   "execution_count": 5,
   "metadata": {},
   "outputs": [
    {
     "name": "stdout",
     "output_type": "stream",
     "text": [
      "number of training, validation images: 12894,  500\n",
      "imagenette_features:10\n"
     ]
    }
   ],
   "source": [
    "size = 128\n",
    "bs   = 64\n",
    "\n",
    "tfms     = [make_rgb, RandomResizedCrop(size, scale=(0.35,1)), PilRandomFlip(), to_byte_tensor, to_float_tensor]\n",
    "val_tfms = [make_rgb, CenterCrop(size), to_byte_tensor, to_float_tensor]\n",
    "files    = ImageList.from_files(path, tfms=tfms)\n",
    "\n",
    "sd       = SplitData.split_by_func(files, partial(grandparent_splitter, valid_name='val'))\n",
    "data     = label_train_valid_data(sd, parent_labeler, proc_y=CategoryProcessor())\n",
    "data.valid.x.tfms  = val_tfms\n",
    "\n",
    "imagenette_features = max(data.train.y)+1\n",
    "print(f\"number of training, validation images: {len(data.train)},  {len(data.valid)}\")\n",
    "print(f\"imagenette_features:{imagenette_features}\")\n",
    "\n",
    "train_dl,valid_dl = ( DataLoader(data.train, batch_size=bs,   num_workers=4, shuffle=True),\n",
    "                      DataLoader(data.valid, batch_size=bs*2, num_workers=4))\n",
    "databunch = DataBunch(train_dl, valid_dl, c_in=3, c_out=imagenette_features)"
   ]
  },
  {
   "cell_type": "code",
   "execution_count": 6,
   "metadata": {},
   "outputs": [],
   "source": [
    "layers_sizes = [64,64,128,256]\n",
    "layer = partial( conv_layer, stride=2, bn=True, zero_bn=False, act=partial(torch.nn.ReLU,inplace=True) )\n",
    "model = get_cnn_model(layers_sizes, databunch.c_in, databunch.c_out, layer)\n",
    "init_cnn( model )\n",
    "\n",
    "cbfs_base = [TrainableModelCallback, TrainEvalCallback, OptimizerCallback, \n",
    "#        partial(ParamScheduler, 'lr', sched),\n",
    "        partial(BatchTransformXCallback, norm_imagenette),\n",
    "#        partial(MixUp,α=0.4),\n",
    "        \n",
    "        #CudaCallback,\n",
    "        ProgressCallback,\n",
    "       ]\n",
    "cbfs = cbfs_base.copy() + [Recorder, partial(AvgStatsCallback,[accuracy])]\n",
    "cbfs_lr_Finder = cbfs_base.copy() + [LR_Finder]\n",
    "\n",
    "sched = combine_scheds([0.3, 0.7], [sched_cos(0.3, 0.6), sched_cos(0.6, 0.2)]) "
   ]
  },
  {
   "cell_type": "code",
   "execution_count": 7,
   "metadata": {},
   "outputs": [
    {
     "name": "stdout",
     "output_type": "stream",
     "text": [
      "\n",
      "model_summary\n",
      "\n",
      "Conv2d(3, 64, kernel_size=(5, 5), stride=(2, 2), padding=(2, 2), bias=False)\n",
      "torch.Size([64, 64, 64, 64]), requires_grad:True\n",
      "\n",
      "Conv2d(64, 64, kernel_size=(3, 3), stride=(2, 2), padding=(1, 1), bias=False)\n",
      "torch.Size([64, 64, 32, 32]), requires_grad:True\n",
      "\n",
      "Conv2d(64, 128, kernel_size=(3, 3), stride=(2, 2), padding=(1, 1), bias=False)\n",
      "torch.Size([64, 128, 16, 16]), requires_grad:True\n",
      "\n",
      "Conv2d(128, 256, kernel_size=(3, 3), stride=(2, 2), padding=(1, 1), bias=False)\n",
      "torch.Size([64, 256, 8, 8]), requires_grad:True\n",
      "\n",
      "Linear(in_features=256, out_features=10, bias=True)\n",
      "torch.Size([64, 10]), requires_grad:True\n"
     ]
    }
   ],
   "source": [
    "xb,_ = getFirstbatch( model, databunch, partial(BatchTransformXCallback, tfm = norm_imagenette))\n",
    "model_summary(model, xb, find_all=True, print_mod=True)"
   ]
  },
  {
   "cell_type": "code",
   "execution_count": 8,
   "metadata": {},
   "outputs": [
    {
     "data": {
      "text/html": [
       "<table border=\"1\" class=\"dataframe\">\n",
       "  <thead>\n",
       "    <tr style=\"text-align: left;\">\n",
       "      <th>epoch</th>\n",
       "      <th>train_loss</th>\n",
       "      <th>train_accuracy</th>\n",
       "      <th>valid_loss</th>\n",
       "      <th>valid_accuracy</th>\n",
       "      <th>time</th>\n",
       "    </tr>\n",
       "  </thead>\n",
       "  <tbody>\n",
       "    <tr>\n",
       "      <td>0</td>\n",
       "      <td>1.995635</td>\n",
       "      <td>0.352877</td>\n",
       "      <td>1.765346</td>\n",
       "      <td>0.472000</td>\n",
       "      <td>01:59</td>\n",
       "    </tr>\n",
       "    <tr>\n",
       "      <td>1</td>\n",
       "      <td>1.767270</td>\n",
       "      <td>0.469598</td>\n",
       "      <td>1.662404</td>\n",
       "      <td>0.526000</td>\n",
       "      <td>01:58</td>\n",
       "    </tr>\n",
       "    <tr>\n",
       "      <td>2</td>\n",
       "      <td>1.668685</td>\n",
       "      <td>0.521405</td>\n",
       "      <td>1.615334</td>\n",
       "      <td>0.540000</td>\n",
       "      <td>02:07</td>\n",
       "    </tr>\n",
       "  </tbody>\n",
       "</table>"
      ],
      "text/plain": [
       "<IPython.core.display.HTML object>"
      ]
     },
     "metadata": {},
     "output_type": "display_data"
    },
    {
     "name": "stdout",
     "output_type": "stream",
     "text": [
      "CPU times: user 28min 27s, sys: 5min 18s, total: 33min 45s\n",
      "Wall time: 6min 5s\n"
     ]
    }
   ],
   "source": [
    "learn = Learner( model, databunch, loss_func=LabelSmoothingCrossEntropy())\n",
    "%time learn.fit(3, opt=Adam(sched,max_lr=3e-4, moms=(0.85,0.95), max_wd = 1e-4), cb_funcs=cbfs)"
   ]
  },
  {
   "cell_type": "code",
   "execution_count": 9,
   "metadata": {},
   "outputs": [],
   "source": [
    "save_model(path, learn.model)"
   ]
  },
  {
   "cell_type": "markdown",
   "metadata": {},
   "source": [
    "## Trains Pets dataset "
   ]
  },
  {
   "cell_type": "code",
   "execution_count": 10,
   "metadata": {},
   "outputs": [],
   "source": [
    "pets = datasets.untar_data(datasets.URLs.PETS)"
   ]
  },
  {
   "cell_type": "code",
   "execution_count": 11,
   "metadata": {},
   "outputs": [
    {
     "data": {
      "text/plain": [
       "[PosixPath('/Users/kasparlund/.fastai/data/oxford-iiit-pet/images'),\n",
       " PosixPath('/Users/kasparlund/.fastai/data/oxford-iiit-pet/annotations')]"
      ]
     },
     "execution_count": 11,
     "metadata": {},
     "output_type": "execute_result"
    }
   ],
   "source": [
    "list(pets.iterdir())[:10]"
   ]
  },
  {
   "cell_type": "code",
   "execution_count": 12,
   "metadata": {},
   "outputs": [
    {
     "data": {
      "text/plain": [
       "[PosixPath('/Users/kasparlund/.fastai/data/oxford-iiit-pet/images/Egyptian_Mau_167.jpg'),\n",
       " PosixPath('/Users/kasparlund/.fastai/data/oxford-iiit-pet/images/pug_52.jpg'),\n",
       " PosixPath('/Users/kasparlund/.fastai/data/oxford-iiit-pet/images/basset_hound_112.jpg'),\n",
       " PosixPath('/Users/kasparlund/.fastai/data/oxford-iiit-pet/images/Siamese_193.jpg'),\n",
       " PosixPath('/Users/kasparlund/.fastai/data/oxford-iiit-pet/images/shiba_inu_122.jpg'),\n",
       " PosixPath('/Users/kasparlund/.fastai/data/oxford-iiit-pet/images/Siamese_53.jpg'),\n",
       " PosixPath('/Users/kasparlund/.fastai/data/oxford-iiit-pet/images/Birman_167.jpg'),\n",
       " PosixPath('/Users/kasparlund/.fastai/data/oxford-iiit-pet/images/leonberger_6.jpg'),\n",
       " PosixPath('/Users/kasparlund/.fastai/data/oxford-iiit-pet/images/Siamese_47.jpg'),\n",
       " PosixPath('/Users/kasparlund/.fastai/data/oxford-iiit-pet/images/shiba_inu_136.jpg')]"
      ]
     },
     "execution_count": 12,
     "metadata": {},
     "output_type": "execute_result"
    }
   ],
   "source": [
    "pets_path = pets/'images'\n",
    "list(pets_path.iterdir())[:10]"
   ]
  },
  {
   "cell_type": "code",
   "execution_count": 13,
   "metadata": {},
   "outputs": [
    {
     "name": "stdout",
     "output_type": "stream",
     "text": [
      "number of training, validation images: 6661,  729\n",
      "pets_features:37\n"
     ]
    }
   ],
   "source": [
    "import re\n",
    "def random_splitter(fn, p_valid): return random.random() < p_valid\n",
    "def pet_labeler(fn): return re.findall(r'^(.*)_\\d+.jpg$', fn.name)[0]\n",
    "\n",
    "files = ImageList.from_files(pets_path, tfms=tfms)\n",
    "sd    = SplitData.split_by_func(files, partial(random_splitter, p_valid=0.1))\n",
    "\n",
    "proc  = CategoryProcessor()\n",
    "data  = label_train_valid_data(sd, pet_labeler, proc_y=proc)\n",
    "data.valid.x.tfms = val_tfms\n",
    "\n",
    "pets_features     = len(proc.vocab)\n",
    "print(f\"number of training, validation images: {len(data.train)},  {len(data.valid)}\")\n",
    "print(f\"pets_features:{pets_features}\")\n",
    "\n",
    "train_dl,valid_dl = ( DataLoader(data.train, batch_size=bs,   num_workers=4, shuffle=True),\n",
    "                      DataLoader(data.valid, batch_size=bs*2, num_workers=4))\n",
    "databunch = DataBunch(train_dl, valid_dl, c_in=3, c_out=pets_features)"
   ]
  },
  {
   "cell_type": "code",
   "execution_count": 25,
   "metadata": {},
   "outputs": [
    {
     "name": "stdout",
     "output_type": "stream",
     "text": [
      "categories:\n",
      "Egyptian_Mau, pug, basset_hound, Siamese, shiba_inu, Birman, leonberger, saint_bernard, Abyssinian, miniature_pinscher, wheaten_terrier, scottish_terrier, pomeranian, german_shorthaired, english_setter, Sphynx, newfoundland, British_Shorthair, boxer, great_pyrenees, samoyed, Russian_Blue, japanese_chin, Ragdoll, english_cocker_spaniel, Maine_Coon, havanese, Bengal, american_pit_bull_terrier, keeshond, american_bulldog, chihuahua, Bombay, staffordshire_bull_terrier, beagle, Persian, yorkshire_terrier\n"
     ]
    }
   ],
   "source": [
    "print(f\"categories:\\n{ ', '.join(proc.vocab) }\")"
   ]
  },
  {
   "cell_type": "code",
   "execution_count": 26,
   "metadata": {},
   "outputs": [],
   "source": [
    "#train with from scratch\n",
    "model = get_cnn_model(layers_sizes, databunch.c_in, databunch.c_out, layer)\n",
    "init_cnn( model )"
   ]
  },
  {
   "cell_type": "code",
   "execution_count": 27,
   "metadata": {},
   "outputs": [
    {
     "name": "stdout",
     "output_type": "stream",
     "text": [
      "model_summary\n",
      "\n",
      "Conv2d(3, 64, kernel_size=(5, 5), stride=(2, 2), padding=(2, 2), bias=False)\n",
      "torch.Size([64, 64, 64, 64]), requires_grad:True\n",
      "\n",
      "Conv2d(64, 64, kernel_size=(3, 3), stride=(2, 2), padding=(1, 1), bias=False)\n",
      "torch.Size([64, 64, 32, 32]), requires_grad:True\n",
      "\n",
      "Conv2d(64, 128, kernel_size=(3, 3), stride=(2, 2), padding=(1, 1), bias=False)\n",
      "torch.Size([64, 128, 16, 16]), requires_grad:True\n",
      "\n",
      "Conv2d(128, 256, kernel_size=(3, 3), stride=(2, 2), padding=(1, 1), bias=False)\n",
      "torch.Size([64, 256, 8, 8]), requires_grad:True\n",
      "\n",
      "Linear(in_features=256, out_features=37, bias=True)\n",
      "torch.Size([64, 37]), requires_grad:True\n"
     ]
    }
   ],
   "source": [
    "xb,_ = getFirstbatch( learn.model, databunch, partial(BatchTransformXCallback, tfm = norm_imagenette))\n",
    "model_summary(learn.model, xb, find_all=True, print_mod=True)"
   ]
  },
  {
   "cell_type": "code",
   "execution_count": null,
   "metadata": {},
   "outputs": [
    {
     "data": {
      "text/html": [
       "\n",
       "    <div>\n",
       "        <style>\n",
       "            /* Turns off some styling */\n",
       "            progress {\n",
       "                /* gets rid of default border in Firefox and Opera. */\n",
       "                border: none;\n",
       "                /* Needs to be in here for Safari polyfill so background images work as expected. */\n",
       "                background-size: auto;\n",
       "            }\n",
       "            .progress-bar-interrupted, .progress-bar-interrupted::-webkit-progress-bar {\n",
       "                background: #F44336;\n",
       "            }\n",
       "        </style>\n",
       "      <progress value='1' class='' max='2', style='width:300px; height:20px; vertical-align: middle;'></progress>\n",
       "      50.00% [1/2 00:02<00:02]\n",
       "    </div>\n",
       "    \n",
       "<table border=\"1\" class=\"dataframe\">\n",
       "  <thead>\n",
       "    <tr style=\"text-align: left;\">\n",
       "      <th>epoch</th>\n",
       "      <th>train_loss</th>\n",
       "      <th>train_accuracy</th>\n",
       "      <th>valid_loss</th>\n",
       "      <th>valid_accuracy</th>\n",
       "      <th>time</th>\n",
       "    </tr>\n",
       "  </thead>\n",
       "  <tbody>\n",
       "    <tr>\n",
       "      <td>0</td>\n",
       "      <td>3.534791</td>\n",
       "      <td>0.060201</td>\n",
       "      <td>3.464581</td>\n",
       "      <td>0.101509</td>\n",
       "      <td>01:03</td>\n",
       "    </tr>\n",
       "  </tbody>\n",
       "</table><p>\n",
       "\n",
       "    <div>\n",
       "        <style>\n",
       "            /* Turns off some styling */\n",
       "            progress {\n",
       "                /* gets rid of default border in Firefox and Opera. */\n",
       "                border: none;\n",
       "                /* Needs to be in here for Safari polyfill so background images work as expected. */\n",
       "                background-size: auto;\n",
       "            }\n",
       "            .progress-bar-interrupted, .progress-bar-interrupted::-webkit-progress-bar {\n",
       "                background: #F44336;\n",
       "            }\n",
       "        </style>\n",
       "      <progress value='9' class='' max='105', style='width:300px; height:20px; vertical-align: middle;'></progress>\n",
       "      8.57% [9/105 00:05<00:55]\n",
       "    </div>\n",
       "    "
      ],
      "text/plain": [
       "<IPython.core.display.HTML object>"
      ]
     },
     "metadata": {},
     "output_type": "display_data"
    }
   ],
   "source": [
    "learn = Learner( model, databunch, loss_func=LabelSmoothingCrossEntropy() )\n",
    "cbfs  = cbfs_base.copy() + [Recorder, partial(AvgStatsCallback,[accuracy])]\n",
    "%time learn.fit(2, opt=Adam(sched,max_lr=3e-4, moms=(0.85,0.95), max_wd = 1e-4), cb_funcs=cbfs)"
   ]
  },
  {
   "cell_type": "markdown",
   "metadata": {},
   "source": [
    "## use pretrained imagenette model for training with gradual unfreezing"
   ]
  },
  {
   "cell_type": "code",
   "execution_count": 136,
   "metadata": {},
   "outputs": [
    {
     "name": "stdout",
     "output_type": "stream",
     "text": [
      "path to pretrained model:/Users/kasparlund/.fastai/data/imagenette-160\n"
     ]
    }
   ],
   "source": [
    "print(f\"path to pretrained model:{path}\")"
   ]
  },
  {
   "cell_type": "code",
   "execution_count": 147,
   "metadata": {},
   "outputs": [],
   "source": [
    "#load pretrained on imagewoof\n",
    "model = get_cnn_model(layers_sizes, 3, imagenette_features, layer)\n",
    "load_model(path, model)"
   ]
  },
  {
   "cell_type": "code",
   "execution_count": 148,
   "metadata": {},
   "outputs": [],
   "source": [
    "def adapt_model(model, data, norm):\n",
    "    #get rid of norm\n",
    "    cut   = next( i for i,o in enumerate(model.children()) if isinstance(o,nn.AdaptiveAvgPool2d) )\n",
    "    m_cut = model[:cut]\n",
    "    \n",
    "    xb,_  = getFirstbatch( model, data, partial(BatchTransformXCallback, tfm = norm))\n",
    "    pred  = m_cut(xb)\n",
    "    ni    = pred.shape[1]\n",
    "    \n",
    "    m_new = nn.Sequential(\n",
    "        m_cut, \n",
    "        AdaptiveConcatPool2d(), \n",
    "        Flatten(),\n",
    "        nn.Linear(ni*2, data.c_out))\n",
    "    return m_new\n",
    "\n",
    "model = adapt_model(model, databunch, norm=norm_imagenette)"
   ]
  },
  {
   "cell_type": "code",
   "execution_count": 149,
   "metadata": {},
   "outputs": [
    {
     "name": "stdout",
     "output_type": "stream",
     "text": [
      "\n",
      "model_summary\n",
      "torch.Size([64, 64, 64, 64]), requires_grad=True\n",
      "torch.Size([64, 64, 32, 32]), requires_grad=True\n",
      "torch.Size([64, 128, 16, 16]), requires_grad=True\n",
      "torch.Size([64, 256, 8, 8]), requires_grad=True\n",
      "torch.Size([64, 37]), requires_grad=True\n"
     ]
    }
   ],
   "source": [
    "xb,_ = getFirstbatch( model, databunch, partial(BatchTransformXCallback, tfm = norm_imagenette))\n",
    "model_summary(model, xb, find_all=True, print_mod=False)"
   ]
  },
  {
   "cell_type": "code",
   "execution_count": 151,
   "metadata": {},
   "outputs": [],
   "source": [
    "def set_grad(module, requires_grad, train_bn=False):\n",
    "    #if isinstance(module, (nn.Linear,nn.BatchNorm2d)): \n",
    "    #    for p in module.parameters(recurse=False):\n",
    "    #        p.requires_grad_(train_bn)    \n",
    "        #print(f\"{type(module)} ignored\")\n",
    "    #else:   \n",
    "        #if len(list(module.parameters(recurse=False)))> 0: print(f\"{type(module)} setting requires_grad:{requires_grad}\")\n",
    "    for p in module.parameters(recurse=False):\n",
    "        p.requires_grad_(requires_grad)    \n",
    " \n",
    "def change_requires_grad(module:nn.Module, requires_grad, train_bn):\n",
    "    if isinstance(module, nn.Module):\n",
    "        set_grad(module, requires_grad, train_bn)\n",
    "        for m in module.children(): \n",
    "            change_requires_grad(m, requires_grad, train_bn)\n",
    "def freeze( model, train_bn=False ):\n",
    "    print(\"setting all to requires_grad=True\")\n",
    "    change_requires_grad(model,    requires_grad=True, train_bn=train_bn)\n",
    "    print(\"\\nsetting pretrained to requires_grad=False\")\n",
    "    change_requires_grad(model[0], requires_grad=False, train_bn=train_bn)\n",
    "def unfreeze( model, train_bn=False ):\n",
    "    print(\"setting all to requires_grad=True\")\n",
    "    change_requires_grad(model,    requires_grad=True, train_bn=train_bn)\n",
    "    \n",
    "def print_requires_grad(module:nn.Module):\n",
    "    if isinstance(module, nn.Module):\n",
    "        print(f\"\\nmodule:{type(module)}\")\n",
    "        for m in module.children(): \n",
    "            print_requires_grad(m)\n",
    "        if len(list(module.children()))==0:\n",
    "            for p in module.parameters():\n",
    "                print(f\"{type(p)} requires_grad:{p.requires_grad}\")\n",
    "            #print(f\"\\n\")\n"
   ]
  },
  {
   "cell_type": "code",
   "execution_count": 152,
   "metadata": {
    "scrolled": false
   },
   "outputs": [
    {
     "name": "stdout",
     "output_type": "stream",
     "text": [
      "setting all to requires_grad=True\n",
      "\n",
      "setting pretrained to requires_grad=False\n",
      "\n",
      "model_summary\n",
      "torch.Size([64, 64, 64, 64]), requires_grad=False\n",
      "torch.Size([64, 64, 32, 32]), requires_grad=False\n",
      "torch.Size([64, 128, 16, 16]), requires_grad=False\n",
      "torch.Size([64, 256, 8, 8]), requires_grad=False\n",
      "torch.Size([64, 37]), requires_grad=True\n",
      "\n",
      "print_requires_grad\n",
      "\n",
      "module:<class 'torch.nn.modules.container.Sequential'>\n",
      "\n",
      "module:<class 'torch.nn.modules.container.Sequential'>\n",
      "\n",
      "module:<class 'torch.nn.modules.container.Sequential'>\n",
      "\n",
      "module:<class 'torch.nn.modules.conv.Conv2d'>\n",
      "<class 'torch.nn.parameter.Parameter'> requires_grad:False\n",
      "\n",
      "module:<class 'torch.nn.modules.batchnorm.BatchNorm2d'>\n",
      "<class 'torch.nn.parameter.Parameter'> requires_grad:False\n",
      "<class 'torch.nn.parameter.Parameter'> requires_grad:False\n",
      "\n",
      "module:<class 'torch.nn.modules.activation.ReLU'>\n",
      "\n",
      "module:<class 'torch.nn.modules.container.Sequential'>\n",
      "\n",
      "module:<class 'torch.nn.modules.conv.Conv2d'>\n",
      "<class 'torch.nn.parameter.Parameter'> requires_grad:False\n",
      "\n",
      "module:<class 'torch.nn.modules.batchnorm.BatchNorm2d'>\n",
      "<class 'torch.nn.parameter.Parameter'> requires_grad:False\n",
      "<class 'torch.nn.parameter.Parameter'> requires_grad:False\n",
      "\n",
      "module:<class 'torch.nn.modules.activation.ReLU'>\n",
      "\n",
      "module:<class 'torch.nn.modules.container.Sequential'>\n",
      "\n",
      "module:<class 'torch.nn.modules.conv.Conv2d'>\n",
      "<class 'torch.nn.parameter.Parameter'> requires_grad:False\n",
      "\n",
      "module:<class 'torch.nn.modules.batchnorm.BatchNorm2d'>\n",
      "<class 'torch.nn.parameter.Parameter'> requires_grad:False\n",
      "<class 'torch.nn.parameter.Parameter'> requires_grad:False\n",
      "\n",
      "module:<class 'torch.nn.modules.activation.ReLU'>\n",
      "\n",
      "module:<class 'torch.nn.modules.container.Sequential'>\n",
      "\n",
      "module:<class 'torch.nn.modules.conv.Conv2d'>\n",
      "<class 'torch.nn.parameter.Parameter'> requires_grad:False\n",
      "\n",
      "module:<class 'torch.nn.modules.batchnorm.BatchNorm2d'>\n",
      "<class 'torch.nn.parameter.Parameter'> requires_grad:False\n",
      "<class 'torch.nn.parameter.Parameter'> requires_grad:False\n",
      "\n",
      "module:<class 'torch.nn.modules.activation.ReLU'>\n",
      "\n",
      "module:<class 'lib.model.AdaptiveConcatPool2d'>\n",
      "\n",
      "module:<class 'torch.nn.modules.pooling.AdaptiveAvgPool2d'>\n",
      "\n",
      "module:<class 'torch.nn.modules.pooling.AdaptiveMaxPool2d'>\n",
      "\n",
      "module:<class 'lib.model.Flatten'>\n",
      "\n",
      "module:<class 'torch.nn.modules.linear.Linear'>\n",
      "<class 'torch.nn.parameter.Parameter'> requires_grad:True\n",
      "<class 'torch.nn.parameter.Parameter'> requires_grad:True\n"
     ]
    }
   ],
   "source": [
    "freeze(model)\n",
    "model_summary(model, xb, find_all=True, print_mod=False)\n",
    "\n",
    "print(\"\\nprint_requires_grad\")\n",
    "print_requires_grad(learn.model)"
   ]
  },
  {
   "cell_type": "code",
   "execution_count": 150,
   "metadata": {},
   "outputs": [],
   "source": [
    "cbfs  = cbfs_base.copy() + [Recorder, partial(AvgStatsCallback,[accuracy])]\n",
    "learn = Learner( model, databunch, loss_func=LabelSmoothingCrossEntropy() )"
   ]
  },
  {
   "cell_type": "code",
   "execution_count": 153,
   "metadata": {},
   "outputs": [
    {
     "data": {
      "text/html": [
       "<table border=\"1\" class=\"dataframe\">\n",
       "  <thead>\n",
       "    <tr style=\"text-align: left;\">\n",
       "      <th>epoch</th>\n",
       "      <th>train_loss</th>\n",
       "      <th>train_accuracy</th>\n",
       "      <th>valid_loss</th>\n",
       "      <th>valid_accuracy</th>\n",
       "      <th>time</th>\n",
       "    </tr>\n",
       "  </thead>\n",
       "  <tbody>\n",
       "    <tr>\n",
       "      <td>0</td>\n",
       "      <td>3.630612</td>\n",
       "      <td>0.050097</td>\n",
       "      <td>3.512664</td>\n",
       "      <td>0.071923</td>\n",
       "      <td>00:28</td>\n",
       "    </tr>\n",
       "    <tr>\n",
       "      <td>1</td>\n",
       "      <td>3.414650</td>\n",
       "      <td>0.094645</td>\n",
       "      <td>3.396963</td>\n",
       "      <td>0.102351</td>\n",
       "      <td>00:28</td>\n",
       "    </tr>\n",
       "    <tr>\n",
       "      <td>2</td>\n",
       "      <td>3.314760</td>\n",
       "      <td>0.128544</td>\n",
       "      <td>3.373232</td>\n",
       "      <td>0.105118</td>\n",
       "      <td>00:28</td>\n",
       "    </tr>\n",
       "  </tbody>\n",
       "</table>"
      ],
      "text/plain": [
       "<IPython.core.display.HTML object>"
      ]
     },
     "metadata": {},
     "output_type": "display_data"
    },
    {
     "name": "stdout",
     "output_type": "stream",
     "text": [
      "CPU times: user 6min 21s, sys: 1min 20s, total: 7min 41s\n",
      "Wall time: 1min 25s\n"
     ]
    }
   ],
   "source": [
    "%time learn.fit(3, opt=Adam(sched,max_lr=2e-3, moms=(0.85,0.95), max_wd = 1e-4), cb_funcs=cbfs)"
   ]
  },
  {
   "cell_type": "code",
   "execution_count": 154,
   "metadata": {
    "scrolled": false
   },
   "outputs": [
    {
     "name": "stdout",
     "output_type": "stream",
     "text": [
      "setting all to requires_grad=True\n",
      "\n",
      "model_summary\n",
      "torch.Size([64, 64, 64, 64]), requires_grad=True\n",
      "torch.Size([64, 64, 32, 32]), requires_grad=True\n",
      "torch.Size([64, 128, 16, 16]), requires_grad=True\n",
      "torch.Size([64, 256, 8, 8]), requires_grad=True\n",
      "torch.Size([64, 37]), requires_grad=True\n",
      "\n",
      "print_requires_grad\n",
      "\n",
      "module:<class 'torch.nn.modules.container.Sequential'>\n",
      "\n",
      "module:<class 'torch.nn.modules.container.Sequential'>\n",
      "\n",
      "module:<class 'torch.nn.modules.container.Sequential'>\n",
      "\n",
      "module:<class 'torch.nn.modules.conv.Conv2d'>\n",
      "<class 'torch.nn.parameter.Parameter'> requires_grad:True\n",
      "\n",
      "module:<class 'torch.nn.modules.batchnorm.BatchNorm2d'>\n",
      "<class 'torch.nn.parameter.Parameter'> requires_grad:True\n",
      "<class 'torch.nn.parameter.Parameter'> requires_grad:True\n",
      "\n",
      "module:<class 'torch.nn.modules.activation.ReLU'>\n",
      "\n",
      "module:<class 'torch.nn.modules.container.Sequential'>\n",
      "\n",
      "module:<class 'torch.nn.modules.conv.Conv2d'>\n",
      "<class 'torch.nn.parameter.Parameter'> requires_grad:True\n",
      "\n",
      "module:<class 'torch.nn.modules.batchnorm.BatchNorm2d'>\n",
      "<class 'torch.nn.parameter.Parameter'> requires_grad:True\n",
      "<class 'torch.nn.parameter.Parameter'> requires_grad:True\n",
      "\n",
      "module:<class 'torch.nn.modules.activation.ReLU'>\n",
      "\n",
      "module:<class 'torch.nn.modules.container.Sequential'>\n",
      "\n",
      "module:<class 'torch.nn.modules.conv.Conv2d'>\n",
      "<class 'torch.nn.parameter.Parameter'> requires_grad:True\n",
      "\n",
      "module:<class 'torch.nn.modules.batchnorm.BatchNorm2d'>\n",
      "<class 'torch.nn.parameter.Parameter'> requires_grad:True\n",
      "<class 'torch.nn.parameter.Parameter'> requires_grad:True\n",
      "\n",
      "module:<class 'torch.nn.modules.activation.ReLU'>\n",
      "\n",
      "module:<class 'torch.nn.modules.container.Sequential'>\n",
      "\n",
      "module:<class 'torch.nn.modules.conv.Conv2d'>\n",
      "<class 'torch.nn.parameter.Parameter'> requires_grad:True\n",
      "\n",
      "module:<class 'torch.nn.modules.batchnorm.BatchNorm2d'>\n",
      "<class 'torch.nn.parameter.Parameter'> requires_grad:True\n",
      "<class 'torch.nn.parameter.Parameter'> requires_grad:True\n",
      "\n",
      "module:<class 'torch.nn.modules.activation.ReLU'>\n",
      "\n",
      "module:<class 'lib.model.AdaptiveConcatPool2d'>\n",
      "\n",
      "module:<class 'torch.nn.modules.pooling.AdaptiveAvgPool2d'>\n",
      "\n",
      "module:<class 'torch.nn.modules.pooling.AdaptiveMaxPool2d'>\n",
      "\n",
      "module:<class 'lib.model.Flatten'>\n",
      "\n",
      "module:<class 'torch.nn.modules.linear.Linear'>\n",
      "<class 'torch.nn.parameter.Parameter'> requires_grad:True\n",
      "<class 'torch.nn.parameter.Parameter'> requires_grad:True\n"
     ]
    }
   ],
   "source": [
    "unfreeze(learn.model)\n",
    "#print_requires_grad(learn.model)\n",
    "#print(\"\")\n",
    "model_summary(model, xb, find_all=True, print_mod=False)\n",
    "\n",
    "print(\"\\nprint_requires_grad\")\n",
    "print_requires_grad(learn.model)"
   ]
  },
  {
   "cell_type": "code",
   "execution_count": 155,
   "metadata": {},
   "outputs": [
    {
     "data": {
      "text/html": [
       "<table border=\"1\" class=\"dataframe\">\n",
       "  <thead>\n",
       "    <tr style=\"text-align: left;\">\n",
       "      <th>epoch</th>\n",
       "      <th>train_loss</th>\n",
       "      <th>train_accuracy</th>\n",
       "      <th>valid_loss</th>\n",
       "      <th>valid_accuracy</th>\n",
       "      <th>time</th>\n",
       "    </tr>\n",
       "  </thead>\n",
       "  <tbody>\n",
       "    <tr>\n",
       "      <td>0</td>\n",
       "      <td>3.245641</td>\n",
       "      <td>0.149243</td>\n",
       "      <td>3.301595</td>\n",
       "      <td>0.141079</td>\n",
       "      <td>01:10</td>\n",
       "    </tr>\n",
       "    <tr>\n",
       "      <td>1</td>\n",
       "      <td>3.211513</td>\n",
       "      <td>0.158542</td>\n",
       "      <td>3.271284</td>\n",
       "      <td>0.149378</td>\n",
       "      <td>01:05</td>\n",
       "    </tr>\n",
       "    <tr>\n",
       "      <td>2</td>\n",
       "      <td>3.179389</td>\n",
       "      <td>0.170991</td>\n",
       "      <td>3.249076</td>\n",
       "      <td>0.141079</td>\n",
       "      <td>01:05</td>\n",
       "    </tr>\n",
       "    <tr>\n",
       "      <td>3</td>\n",
       "      <td>3.154111</td>\n",
       "      <td>0.177291</td>\n",
       "      <td>3.232889</td>\n",
       "      <td>0.154910</td>\n",
       "      <td>01:05</td>\n",
       "    </tr>\n",
       "    <tr>\n",
       "      <td>4</td>\n",
       "      <td>3.143253</td>\n",
       "      <td>0.184791</td>\n",
       "      <td>3.222580</td>\n",
       "      <td>0.157676</td>\n",
       "      <td>01:05</td>\n",
       "    </tr>\n",
       "  </tbody>\n",
       "</table>"
      ],
      "text/plain": [
       "<IPython.core.display.HTML object>"
      ]
     },
     "metadata": {},
     "output_type": "display_data"
    }
   ],
   "source": [
    "learn.fit(3, opt=Adam(sched,max_lr=5e-5, moms=(0.85,0.95), max_wd = 1e-6), cb_funcs=cbfs)"
   ]
  },
  {
   "cell_type": "code",
   "execution_count": 70,
   "metadata": {},
   "outputs": [
    {
     "name": "stdout",
     "output_type": "stream",
     "text": [
      "\n",
      "Conv2d(3, 64, kernel_size=(5, 5), stride=(2, 2), padding=(2, 2), bias=False)\n",
      "torch.Size([64, 64, 64, 64]), requires_grad:True\n",
      "\n",
      "Conv2d(64, 64, kernel_size=(3, 3), stride=(2, 2), padding=(1, 1), bias=False)\n",
      "torch.Size([64, 64, 32, 32]), requires_grad:True\n",
      "\n",
      "Conv2d(64, 128, kernel_size=(3, 3), stride=(2, 2), padding=(1, 1), bias=False)\n",
      "torch.Size([64, 128, 16, 16]), requires_grad:True\n",
      "\n",
      "Conv2d(128, 256, kernel_size=(3, 3), stride=(2, 2), padding=(1, 1), bias=False)\n",
      "torch.Size([64, 256, 8, 8]), requires_grad:True\n",
      "\n",
      "Linear(in_features=512, out_features=37, bias=True)\n",
      "torch.Size([64, 37]), requires_grad:True\n"
     ]
    }
   ],
   "source": [
    "model_summary(model, xb, find_all=True, print_mod=True)"
   ]
  },
  {
   "cell_type": "code",
   "execution_count": 72,
   "metadata": {
    "scrolled": false
   },
   "outputs": [
    {
     "name": "stdout",
     "output_type": "stream",
     "text": [
      "module:<class 'torch.nn.modules.container.Sequential'>\n",
      "module:<class 'torch.nn.modules.container.Sequential'>\n",
      "module:<class 'torch.nn.modules.conv.Conv2d'>\n",
      "<class 'torch.nn.parameter.Parameter'> requires_grad:True\n",
      "\n",
      "\n",
      "module:<class 'torch.nn.modules.batchnorm.BatchNorm2d'>\n",
      "<class 'torch.nn.parameter.Parameter'> requires_grad:True\n",
      "<class 'torch.nn.parameter.Parameter'> requires_grad:True\n",
      "\n",
      "\n",
      "module:<class 'torch.nn.modules.activation.ReLU'>\n",
      "\n",
      "\n",
      "<class 'torch.nn.parameter.Parameter'> requires_grad:True\n",
      "<class 'torch.nn.parameter.Parameter'> requires_grad:True\n",
      "<class 'torch.nn.parameter.Parameter'> requires_grad:True\n",
      "\n",
      "\n",
      "module:<class 'torch.nn.modules.container.Sequential'>\n",
      "module:<class 'torch.nn.modules.conv.Conv2d'>\n",
      "<class 'torch.nn.parameter.Parameter'> requires_grad:True\n",
      "\n",
      "\n",
      "module:<class 'torch.nn.modules.batchnorm.BatchNorm2d'>\n",
      "<class 'torch.nn.parameter.Parameter'> requires_grad:True\n",
      "<class 'torch.nn.parameter.Parameter'> requires_grad:True\n",
      "\n",
      "\n",
      "module:<class 'torch.nn.modules.activation.ReLU'>\n",
      "\n",
      "\n",
      "<class 'torch.nn.parameter.Parameter'> requires_grad:True\n",
      "<class 'torch.nn.parameter.Parameter'> requires_grad:True\n",
      "<class 'torch.nn.parameter.Parameter'> requires_grad:True\n",
      "\n",
      "\n",
      "module:<class 'torch.nn.modules.container.Sequential'>\n",
      "module:<class 'torch.nn.modules.conv.Conv2d'>\n",
      "<class 'torch.nn.parameter.Parameter'> requires_grad:True\n",
      "\n",
      "\n",
      "module:<class 'torch.nn.modules.batchnorm.BatchNorm2d'>\n",
      "<class 'torch.nn.parameter.Parameter'> requires_grad:True\n",
      "<class 'torch.nn.parameter.Parameter'> requires_grad:True\n",
      "\n",
      "\n",
      "module:<class 'torch.nn.modules.activation.ReLU'>\n",
      "\n",
      "\n",
      "<class 'torch.nn.parameter.Parameter'> requires_grad:True\n",
      "<class 'torch.nn.parameter.Parameter'> requires_grad:True\n",
      "<class 'torch.nn.parameter.Parameter'> requires_grad:True\n",
      "\n",
      "\n",
      "module:<class 'torch.nn.modules.container.Sequential'>\n",
      "module:<class 'torch.nn.modules.conv.Conv2d'>\n",
      "<class 'torch.nn.parameter.Parameter'> requires_grad:True\n",
      "\n",
      "\n",
      "module:<class 'torch.nn.modules.batchnorm.BatchNorm2d'>\n",
      "<class 'torch.nn.parameter.Parameter'> requires_grad:True\n",
      "<class 'torch.nn.parameter.Parameter'> requires_grad:True\n",
      "\n",
      "\n",
      "module:<class 'torch.nn.modules.activation.ReLU'>\n",
      "\n",
      "\n",
      "<class 'torch.nn.parameter.Parameter'> requires_grad:True\n",
      "<class 'torch.nn.parameter.Parameter'> requires_grad:True\n",
      "<class 'torch.nn.parameter.Parameter'> requires_grad:True\n",
      "\n",
      "\n",
      "<class 'torch.nn.parameter.Parameter'> requires_grad:True\n",
      "<class 'torch.nn.parameter.Parameter'> requires_grad:True\n",
      "<class 'torch.nn.parameter.Parameter'> requires_grad:True\n",
      "<class 'torch.nn.parameter.Parameter'> requires_grad:True\n",
      "<class 'torch.nn.parameter.Parameter'> requires_grad:True\n",
      "<class 'torch.nn.parameter.Parameter'> requires_grad:True\n",
      "<class 'torch.nn.parameter.Parameter'> requires_grad:True\n",
      "<class 'torch.nn.parameter.Parameter'> requires_grad:True\n",
      "<class 'torch.nn.parameter.Parameter'> requires_grad:True\n",
      "<class 'torch.nn.parameter.Parameter'> requires_grad:True\n",
      "<class 'torch.nn.parameter.Parameter'> requires_grad:True\n",
      "<class 'torch.nn.parameter.Parameter'> requires_grad:True\n",
      "\n",
      "\n",
      "module:<class 'lib.model.AdaptiveConcatPool2d'>\n",
      "module:<class 'torch.nn.modules.pooling.AdaptiveAvgPool2d'>\n",
      "\n",
      "\n",
      "module:<class 'torch.nn.modules.pooling.AdaptiveMaxPool2d'>\n",
      "\n",
      "\n",
      "\n",
      "\n",
      "module:<class 'lib.model.Flatten'>\n",
      "\n",
      "\n",
      "module:<class 'torch.nn.modules.linear.Linear'>\n",
      "<class 'torch.nn.parameter.Parameter'> requires_grad:True\n",
      "<class 'torch.nn.parameter.Parameter'> requires_grad:True\n",
      "\n",
      "\n",
      "<class 'torch.nn.parameter.Parameter'> requires_grad:True\n",
      "<class 'torch.nn.parameter.Parameter'> requires_grad:True\n",
      "<class 'torch.nn.parameter.Parameter'> requires_grad:True\n",
      "<class 'torch.nn.parameter.Parameter'> requires_grad:True\n",
      "<class 'torch.nn.parameter.Parameter'> requires_grad:True\n",
      "<class 'torch.nn.parameter.Parameter'> requires_grad:True\n",
      "<class 'torch.nn.parameter.Parameter'> requires_grad:True\n",
      "<class 'torch.nn.parameter.Parameter'> requires_grad:True\n",
      "<class 'torch.nn.parameter.Parameter'> requires_grad:True\n",
      "<class 'torch.nn.parameter.Parameter'> requires_grad:True\n",
      "<class 'torch.nn.parameter.Parameter'> requires_grad:True\n",
      "<class 'torch.nn.parameter.Parameter'> requires_grad:True\n",
      "<class 'torch.nn.parameter.Parameter'> requires_grad:True\n",
      "<class 'torch.nn.parameter.Parameter'> requires_grad:True\n",
      "\n",
      "\n"
     ]
    }
   ],
   "source": [
    "print_requires_grad(learn.model)"
   ]
  }
 ],
 "metadata": {
  "kernelspec": {
   "display_name": "Python 3",
   "language": "python",
   "name": "python3"
  },
  "language_info": {
   "codemirror_mode": {
    "name": "ipython",
    "version": 3
   },
   "file_extension": ".py",
   "mimetype": "text/x-python",
   "name": "python",
   "nbconvert_exporter": "python",
   "pygments_lexer": "ipython3",
   "version": "3.7.2"
  }
 },
 "nbformat": 4,
 "nbformat_minor": 2
}
