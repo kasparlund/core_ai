{
 "cells": [
  {
   "cell_type": "markdown",
   "metadata": {},
   "source": [
    "# notebook minist and different optimizers\n",
    "\n",
    "the basis is kaiminig optimization and batchnorm"
   ]
  },
  {
   "cell_type": "code",
   "execution_count": 1,
   "metadata": {},
   "outputs": [],
   "source": [
    "%load_ext autoreload\n",
    "%autoreload 2\n",
    "%matplotlib inline"
   ]
  },
  {
   "cell_type": "code",
   "execution_count": 2,
   "metadata": {},
   "outputs": [],
   "source": [
    "import torch\n",
    "from torch import *\n",
    "\n",
    "#let me be on my mac\n",
    "def cuda(self, device=None, non_blocking=False) : return self\n",
    "torch.Tensor.cuda = cuda"
   ]
  },
  {
   "cell_type": "code",
   "execution_count": 3,
   "metadata": {},
   "outputs": [],
   "source": [
    "from lib.modelmanager import *\n",
    "from lib.model import *\n",
    "from lib.data import *\n",
    "from lib.optimizers import *\n",
    "from lib.callbacks import *\n",
    "from lib.graphics import *\n",
    "from pathlib import Path"
   ]
  },
  {
   "cell_type": "markdown",
   "metadata": {},
   "source": [
    "## mnist data"
   ]
  },
  {
   "cell_type": "code",
   "execution_count": 4,
   "metadata": {},
   "outputs": [
    {
     "data": {
      "text/plain": [
       "(tensor(-7.6999e-06), tensor(1.))"
      ]
     },
     "execution_count": 4,
     "metadata": {},
     "output_type": "execute_result"
    }
   ],
   "source": [
    "#mnist_path = Path(\"C:/Users/kl/.fastai/data/mnist.pkl.gz\")\n",
    "mnist_path = Path(\"/Users/kasparlund/.fastai/data/mnist.pkl.gz\")\n",
    "x_train,y_train,x_valid,y_valid = load_pickled_train_valid_data(mnist_path)\n",
    "train_mean, train_sd = x_train.mean(), x_train.std()\n",
    "x_train   = normalize( x_train, train_mean, train_sd)\n",
    "x_valid   = normalize( x_valid, train_mean, train_sd)\n",
    "\n",
    "x_train.mean(),x_train.std()"
   ]
  },
  {
   "cell_type": "code",
   "execution_count": 5,
   "metadata": {},
   "outputs": [
    {
     "name": "stdout",
     "output_type": "stream",
     "text": [
      "391\n",
      "20\n"
     ]
    },
    {
     "data": {
      "text/plain": [
       "(None, None)"
      ]
     },
     "execution_count": 5,
     "metadata": {},
     "output_type": "execute_result"
    }
   ],
   "source": [
    "nh,bs              = 50,128 #512\n",
    "train_ds,valid_ds  = Dataset(x_train, y_train),Dataset(x_valid, y_valid)\n",
    "train_dl, valid_dl = ( DataLoader( train_ds, batch_size=bs, shuffle=True), \n",
    "                        DataLoader(valid_ds,  batch_size=512) )\n",
    "#                        DataLoader(valid_ds,  batch_size=bs*2) )\n",
    "data               = DataBunch( train_dl, valid_dl, c_in=1, c_out=y_train.max().item()+1 )\n",
    "xb, _              = next(iter(train_dl))\n",
    "print(len(train_dl)), print(len(valid_dl))"
   ]
  },
  {
   "cell_type": "code",
   "execution_count": 6,
   "metadata": {},
   "outputs": [
    {
     "name": "stdout",
     "output_type": "stream",
     "text": [
      "For equal distribution of cases pr class:\n",
      "initial loss:    2.3025850929940455\n",
      "initial accuracy 0.1\n"
     ]
    }
   ],
   "source": [
    "# average loss pr input sample at iteration 0\n",
    "import numpy as np\n",
    "nb_classes = 10\n",
    "initial_loss = -np.log( 1.0/nb_classes ) \n",
    "print(f\"For equal distribution of cases pr class:\\ninitial loss:    {initial_loss}\\ninitial accuracy {1.0/nb_classes}\")"
   ]
  },
  {
   "cell_type": "code",
   "execution_count": 7,
   "metadata": {
    "code_folding": []
   },
   "outputs": [],
   "source": [
    "mnist_view   = view_tfm(1,28,28)\n",
    "layers_sizes = [8,16,32,32]\n",
    "loss_func    = F.cross_entropy\n",
    "sched        = combine_scheds([0.3, 0.7], [sched_cos(0.3, 0.6), sched_cos(0.6, 0.2)]) \n",
    "\n",
    "cbfs         = [TrainableModelCallback, TrainEvalCallback, OptimizerCallback, \n",
    "#                partial(CudaCallback, device= torch.device('cuda',0)),\n",
    "#                partial(ParamScheduler, 'lr', sched),\n",
    "                partial(BatchTransformXCallback, tfm = mnist_view), \n",
    "#                partial(MixUp,α=0.4),\n",
    "#                LR_Finder,\n",
    "                Recorder, \n",
    "                partial(AvgStatsCallback,[accuracy]),\n",
    "                ProgressCallback\n",
    "               ]\n",
    "\n"
   ]
  },
  {
   "cell_type": "markdown",
   "metadata": {
    "heading_collapsed": true
   },
   "source": [
    "## resnets + steppers=[sgd_step]"
   ]
  },
  {
   "cell_type": "code",
   "execution_count": null,
   "metadata": {
    "code_folding": [],
    "hidden": true,
    "scrolled": false
   },
   "outputs": [],
   "source": [
    "opt = SGD(sched,max_lr=0.5)#0.5)\n",
    "#loss_func=LabelSmoothingCrossEntropy()\n",
    "loss_func=F.cross_entropy\n",
    "\n",
    "layer = partial( conv_layer, stride=2, bn=False, zero_bn=False, act=GeneralRelu )\n",
    "from torch import *\n",
    "layer = partial( conv_layer, stride=2, bn=False, zero_bn=False, act=partial(torch.nn.ReLU,inplace=True) )\n",
    "model = partial(xresnet18, c_in=data.c_in, c_out=data.c_out)()\n",
    "#model = get_cnn_model(layers_sizes, data.c_in, data.c_out, layer=layer)\n",
    "mm    = CnnModelManager( model )\n",
    "mm.initialize(is_resnet=True)\n",
    "\n",
    "\n",
    "xb,_ = mm.getFirstbatch( data, normalization = mnist_view)\n",
    "print(f\"xb.shape:{xb.shape}\")\n",
    "mm.summary(xb, print_mod=False)\n",
    "learn = Learner( mm.model, data, loss_func=loss_func)\n",
    "\n",
    "%time learn.fit(25, opt=opt, cb_funcs=cbfs)"
   ]
  },
  {
   "cell_type": "code",
   "execution_count": null,
   "metadata": {
    "hidden": true,
    "scrolled": false
   },
   "outputs": [],
   "source": [
    "#learn.find_subcription_by_cls(LR_Finder).plot_loss(),plt.show()\n",
    "learn.find_subcription_by_cls(Recorder).plot_loss(),plt.show()\n",
    "learn.find_subcription_by_cls(Recorder).plot_lr(),plt.show()"
   ]
  },
  {
   "cell_type": "raw",
   "metadata": {
    "hidden": true
   },
   "source": [
    "SGD(sched,max_lr=0.5) e25 ReLU       with BN\n",
    "23\t0.002126\t0.999920\t0.041631\t0.988600\t00:14\n",
    "24\t0.001948\t0.999940\t0.040949\t0.988600\t00:14\n",
    "\n",
    "SGD(sched,max_lr=0.5) e25 ReLUOffset with BN\n",
    "23\t0.002756\t0.999820\t0.036769\t0.989300\t00:15\n",
    "24\t0.002654\t0.999820\t0.036812\t0.988900\t00:15"
   ]
  },
  {
   "cell_type": "markdown",
   "metadata": {
    "heading_collapsed": true
   },
   "source": [
    "## steppers=[sgd_step]"
   ]
  },
  {
   "cell_type": "code",
   "execution_count": null,
   "metadata": {
    "code_folding": [],
    "hidden": true
   },
   "outputs": [],
   "source": [
    "mm    = CnnModelManager( get_cnn_model(layers_sizes, data.c_in, data.c_out, layer=layer) )\n",
    "mm.initialize(is_resnet=False)\n",
    "opt = SGD(sched,max_lr=0.8)#0.5)\n",
    "\n",
    "#loss_func=LabelSmoothingCrossEntropy()\n",
    "loss_func=F.cross_entropy\n",
    "learn = Learner( mm.model, data, loss_func=loss_func)\n",
    "\n",
    "%time learn.fit(3, opt=opt,cb_funcs=cbfs)"
   ]
  },
  {
   "cell_type": "code",
   "execution_count": null,
   "metadata": {
    "hidden": true,
    "scrolled": false
   },
   "outputs": [],
   "source": [
    "#learn.find_subcription_by_cls(LR_Finder).plot_loss(),plt.show()\n",
    "learn.find_subcription_by_cls(Recorder).plot_loss(),plt.show()\n",
    "learn.find_subcription_by_cls(Recorder).plot_lr(),plt.show()"
   ]
  },
  {
   "cell_type": "markdown",
   "metadata": {
    "heading_collapsed": true
   },
   "source": [
    "## steppers=[weight_decay, sgd_step]"
   ]
  },
  {
   "cell_type": "code",
   "execution_count": null,
   "metadata": {
    "hidden": true
   },
   "outputs": [],
   "source": [
    "mm    = CnnModelManager( get_cnn_model(layers_sizes, data.c_in, data.c_out, layer=layer) )\n",
    "mm.initialize(is_resnet=False)\n",
    "\n",
    "opt = SGD(sched,max_lr=0.5, max_wd=0.01)\n",
    "#print(opt.hypers[0]['lr']), print(opt.hypers[0]['wd'])\n",
    "learn = Learner( mm.model, data, loss_func=F.cross_entropy)\n",
    "%time learn.fit(1, opt=opt,cb_funcs=cbfs)"
   ]
  },
  {
   "cell_type": "code",
   "execution_count": null,
   "metadata": {
    "hidden": true
   },
   "outputs": [],
   "source": [
    "learn.find_subcription_by_cls(Recorder).plot_lr(),plt.show()\n",
    "learn.find_subcription_by_cls(Recorder).plot_loss(),plt.show()"
   ]
  },
  {
   "cell_type": "markdown",
   "metadata": {
    "heading_collapsed": true
   },
   "source": [
    "## momentum: steppers=[momentum_step,weight_decay]"
   ]
  },
  {
   "cell_type": "code",
   "execution_count": null,
   "metadata": {
    "hidden": true
   },
   "outputs": [],
   "source": [
    "mm    = CnnModelManager( get_cnn_model(layers_sizes, data.c_in, data.c_out, layer=layer) )\n",
    "mm.initialize(is_resnet=False)\n",
    "\n",
    "opt   = SGD_Momentum(sched,max_lr=1.0, moms=(0.85,0.95), max_wd=1e-3 )\n",
    "learn = Learner( mm.model, data, loss_func=F.cross_entropy)\n",
    "%time learn.fit(1, opt=opt, cb_funcs=cbfs)"
   ]
  },
  {
   "cell_type": "code",
   "execution_count": null,
   "metadata": {
    "hidden": true
   },
   "outputs": [],
   "source": [
    "#learn.find_subcription_by_cls(LR_Finder).plot_loss(skip_end=0),plt.show()\n",
    "learn.find_subcription_by_cls(Recorder).plot_loss(),plt.show()\n",
    "learn.find_subcription_by_cls(Recorder).plot_lr(),plt.show()"
   ]
  },
  {
   "cell_type": "markdown",
   "metadata": {},
   "source": [
    "## Adam: steppers=[adam_step]"
   ]
  },
  {
   "cell_type": "raw",
   "metadata": {},
   "source": [
    "negative_slope=np.linspace(0.,1.,num=11)\n",
    "print(negative_slope)\n",
    "gain = np.fromiter([math.sqrt(2.0 / (1 + s ** 2)) for s in negative_slope], dtype=np.float32, count=len(negative_slope))\n",
    "print(gain)\n",
    "\n",
    "plt.plot(negative_slope,gain)"
   ]
  },
  {
   "cell_type": "code",
   "execution_count": null,
   "metadata": {
    "scrolled": false
   },
   "outputs": [
    {
     "data": {
      "text/html": [
       "\n",
       "    <div>\n",
       "        <style>\n",
       "            /* Turns off some styling */\n",
       "            progress {\n",
       "                /* gets rid of default border in Firefox and Opera. */\n",
       "                border: none;\n",
       "                /* Needs to be in here for Safari polyfill so background images work as expected. */\n",
       "                background-size: auto;\n",
       "            }\n",
       "            .progress-bar-interrupted, .progress-bar-interrupted::-webkit-progress-bar {\n",
       "                background: #F44336;\n",
       "            }\n",
       "        </style>\n",
       "      <progress value='18' class='' max='50', style='width:300px; height:20px; vertical-align: middle;'></progress>\n",
       "      36.00% [18/50 30:26<54:07]\n",
       "    </div>\n",
       "    \n",
       "<table border=\"1\" class=\"dataframe\">\n",
       "  <thead>\n",
       "    <tr style=\"text-align: left;\">\n",
       "      <th>epoch</th>\n",
       "      <th>train_loss</th>\n",
       "      <th>train_accuracy</th>\n",
       "      <th>valid_loss</th>\n",
       "      <th>valid_accuracy</th>\n",
       "      <th>time</th>\n",
       "    </tr>\n",
       "  </thead>\n",
       "  <tbody>\n",
       "    <tr>\n",
       "      <td>0</td>\n",
       "      <td>0.281722</td>\n",
       "      <td>0.915840</td>\n",
       "      <td>0.061536</td>\n",
       "      <td>0.981600</td>\n",
       "      <td>01:47</td>\n",
       "    </tr>\n",
       "    <tr>\n",
       "      <td>1</td>\n",
       "      <td>0.081367</td>\n",
       "      <td>0.974900</td>\n",
       "      <td>0.050420</td>\n",
       "      <td>0.986300</td>\n",
       "      <td>01:46</td>\n",
       "    </tr>\n",
       "    <tr>\n",
       "      <td>2</td>\n",
       "      <td>0.067114</td>\n",
       "      <td>0.980260</td>\n",
       "      <td>0.045710</td>\n",
       "      <td>0.986800</td>\n",
       "      <td>01:46</td>\n",
       "    </tr>\n",
       "    <tr>\n",
       "      <td>3</td>\n",
       "      <td>0.055272</td>\n",
       "      <td>0.982880</td>\n",
       "      <td>0.039418</td>\n",
       "      <td>0.988500</td>\n",
       "      <td>01:46</td>\n",
       "    </tr>\n",
       "    <tr>\n",
       "      <td>4</td>\n",
       "      <td>0.050671</td>\n",
       "      <td>0.984320</td>\n",
       "      <td>0.033038</td>\n",
       "      <td>0.990100</td>\n",
       "      <td>01:46</td>\n",
       "    </tr>\n",
       "    <tr>\n",
       "      <td>5</td>\n",
       "      <td>0.048161</td>\n",
       "      <td>0.984880</td>\n",
       "      <td>0.033384</td>\n",
       "      <td>0.990700</td>\n",
       "      <td>01:46</td>\n",
       "    </tr>\n",
       "    <tr>\n",
       "      <td>6</td>\n",
       "      <td>0.042975</td>\n",
       "      <td>0.987140</td>\n",
       "      <td>0.031784</td>\n",
       "      <td>0.989400</td>\n",
       "      <td>01:41</td>\n",
       "    </tr>\n",
       "    <tr>\n",
       "      <td>7</td>\n",
       "      <td>0.042503</td>\n",
       "      <td>0.987140</td>\n",
       "      <td>0.028206</td>\n",
       "      <td>0.992200</td>\n",
       "      <td>01:47</td>\n",
       "    </tr>\n",
       "    <tr>\n",
       "      <td>8</td>\n",
       "      <td>0.036858</td>\n",
       "      <td>0.988160</td>\n",
       "      <td>0.035145</td>\n",
       "      <td>0.990600</td>\n",
       "      <td>01:48</td>\n",
       "    </tr>\n",
       "    <tr>\n",
       "      <td>9</td>\n",
       "      <td>0.038485</td>\n",
       "      <td>0.987760</td>\n",
       "      <td>0.028254</td>\n",
       "      <td>0.991800</td>\n",
       "      <td>01:50</td>\n",
       "    </tr>\n",
       "    <tr>\n",
       "      <td>10</td>\n",
       "      <td>0.038727</td>\n",
       "      <td>0.988300</td>\n",
       "      <td>0.034627</td>\n",
       "      <td>0.991500</td>\n",
       "      <td>01:49</td>\n",
       "    </tr>\n",
       "    <tr>\n",
       "      <td>11</td>\n",
       "      <td>0.036335</td>\n",
       "      <td>0.988340</td>\n",
       "      <td>0.029303</td>\n",
       "      <td>0.992400</td>\n",
       "      <td>01:50</td>\n",
       "    </tr>\n",
       "    <tr>\n",
       "      <td>12</td>\n",
       "      <td>0.034707</td>\n",
       "      <td>0.989260</td>\n",
       "      <td>0.027945</td>\n",
       "      <td>0.992500</td>\n",
       "      <td>01:47</td>\n",
       "    </tr>\n",
       "    <tr>\n",
       "      <td>13</td>\n",
       "      <td>0.032298</td>\n",
       "      <td>0.990020</td>\n",
       "      <td>0.028357</td>\n",
       "      <td>0.991600</td>\n",
       "      <td>01:43</td>\n",
       "    </tr>\n",
       "    <tr>\n",
       "      <td>14</td>\n",
       "      <td>0.029489</td>\n",
       "      <td>0.990800</td>\n",
       "      <td>0.023992</td>\n",
       "      <td>0.992900</td>\n",
       "      <td>01:54</td>\n",
       "    </tr>\n",
       "    <tr>\n",
       "      <td>15</td>\n",
       "      <td>0.028749</td>\n",
       "      <td>0.990680</td>\n",
       "      <td>0.028364</td>\n",
       "      <td>0.992600</td>\n",
       "      <td>01:49</td>\n",
       "    </tr>\n",
       "    <tr>\n",
       "      <td>16</td>\n",
       "      <td>0.028495</td>\n",
       "      <td>0.990900</td>\n",
       "      <td>0.028346</td>\n",
       "      <td>0.992200</td>\n",
       "      <td>01:43</td>\n",
       "    </tr>\n",
       "    <tr>\n",
       "      <td>17</td>\n",
       "      <td>0.025461</td>\n",
       "      <td>0.991860</td>\n",
       "      <td>0.030492</td>\n",
       "      <td>0.992600</td>\n",
       "      <td>01:43</td>\n",
       "    </tr>\n",
       "  </tbody>\n",
       "</table><p>\n",
       "\n",
       "    <div>\n",
       "        <style>\n",
       "            /* Turns off some styling */\n",
       "            progress {\n",
       "                /* gets rid of default border in Firefox and Opera. */\n",
       "                border: none;\n",
       "                /* Needs to be in here for Safari polyfill so background images work as expected. */\n",
       "                background-size: auto;\n",
       "            }\n",
       "            .progress-bar-interrupted, .progress-bar-interrupted::-webkit-progress-bar {\n",
       "                background: #F44336;\n",
       "            }\n",
       "        </style>\n",
       "      <progress value='12' class='' max='391', style='width:300px; height:20px; vertical-align: middle;'></progress>\n",
       "      3.07% [12/391 00:03<01:37]\n",
       "    </div>\n",
       "    "
      ],
      "text/plain": [
       "<IPython.core.display.HTML object>"
      ]
     },
     "metadata": {},
     "output_type": "display_data"
    }
   ],
   "source": [
    "class RReLUOffset(torch.nn.ReLU):\n",
    "    def __init__(self, post_relu_offset = 0.15, random_range=0.1 ): #0.15915):\n",
    "        super().__init__(inplace=True)\n",
    "        self.register_buffer(\"offset\",torch.tensor(post_relu_offset, dtype=torch.float32))\n",
    "        self.register_buffer(\"random_range\",torch.tensor(random_range, dtype=torch.float32))\n",
    "        self.register_buffer(\"central_noise\",torch.tensor(post_relu_offset, dtype=torch.float32))\n",
    "        \n",
    "    def forward(self, x):\n",
    "        if self.training:\n",
    "            if not self.central_noise.size() == x.size():\n",
    "                self.central_noise = torch.zeros_like(x[0,:], dtype=torch.float32, requires_grad=False)\n",
    "                nn.init.uniform_(self.central_noise, (self.offset-self.random_range).item(),(self.offset+self.random_range).item()) \n",
    "            x = super().forward(x+self.central_noise) - self.central_noise\n",
    "        else:\n",
    "            x = super().forward(x+self.offset) - self.offset\n",
    "        \n",
    "        return x\n",
    "\n",
    "\n",
    "activ_func = partial(RReLUOffset,post_relu_offset = 0.15, random_range=0.05)\n",
    "#activ_func = nn.SELU\n",
    "#activ_func = nn.CELU\n",
    "#activ_func = nn.RReLU\n",
    "#activ_func = partial(nn.PReLU,init=1e-2) \n",
    "#activ_func = partial(nn.LeakyReLU,negative_slope=1e-2) \n",
    "### activ_func = partial(ReLUOffset) \n",
    "#activ_func = partial(nn.ReLU,inplace=True)\n",
    "model = partial(xresnet18, c_in=data.c_in, c_out=data.c_out, activ_func=activ_func)()\n",
    "#model = get_cnn_model(layers_sizes, data.c_in, data.c_out, layer=layer)\n",
    "mm    = CnnModelManager( model )\n",
    "#mm.initialize(is_resnet=True, a=0, nonlinearity=\"relu\") #leaky_relu\n",
    "#mm.initialize(is_resnet=True, a=0.015, nonlinearity=\"leaky_relu\")\n",
    "mm.initialize(is_resnet=True, a=1e-2, nonlinearity=\"leaky_relu\")\n",
    "\n",
    "#opt   = Adam(sched,max_lr=3e-3, moms=(0.9,0.95), max_wd = 0)#1e-5)#1e-6)\n",
    "opt   = Adam(sched,max_lr=8e-3, moms=(0.85,0.95), max_wd = 0)#1e-5)#1e-6)\n",
    "learn = Learner( mm.model, data, loss_func=F.cross_entropy)\n",
    "%time learn.fit(50, opt=opt, cb_funcs=cbfs)\n",
    "#%time learn.fit(150, opt=opt, cb_funcs=cbfs.copy()+[partial(MixUp,α=0.1)])#α=0.025)])\n",
    "#%time learn.fit(1, opt=opt, cb_funcs=cbfs.copy()+[partial(MixUp,α=0.025),LRFinder])\n",
    "#%time learn.fit(1, opt=opt, cb_funcs=cbfs.copy()+[LRFinder])\n"
   ]
  },
  {
   "cell_type": "raw",
   "metadata": {},
   "source": [
    "mixup a=0,dp=0.0\n",
    "epoch\ttrain_loss\ttrain_accuracy\tvalid_loss\tvalid_accuracy\ttime\n",
    "47\t0.000552\t0.999780\t0.058453\t0.992100\t01:33\n",
    "48\t0.000230\t0.999940\t0.045051\t0.994000\t01:36\n",
    "49\t0.000369\t0.999880\t0.058081\t0.990900\t02:21\n",
    "mixup a=0,dp=0.1\n",
    "epoch\ttrain_loss\ttrain_accuracy\tvalid_loss\tvalid_accuracy\ttime\n",
    "\n",
    "mixup a=0,dp=0.15\n",
    "epoch\ttrain_loss\ttrain_accuracy\tvalid_loss\tvalid_accuracy\ttime\n",
    "47\t0.011902\t0.996220\t0.023821\t0.994400\t01:36\n",
    "48\t0.010224\t0.996880\t0.022524\t0.994700\t01:36\n",
    "49\t0.010118\t0.996640\t0.024661\t0.993600\t01:36\n",
    "mixup a=0,dp=0.2\n",
    "epoch\ttrain_loss\ttrain_accuracy\tvalid_loss\tvalid_accuracy\ttime\n",
    "47\t0.018211\t0.994200\t0.028332\t0.993500\t01:34\n",
    "48\t0.018369\t0.994060\t0.027788\t0.992600\t01:34\n",
    "49\t0.017741\t0.994560\t0.029615\t0.992700\t01:34\n",
    "mixup a=0,dp=0.25\n",
    "epoch\ttrain_loss\ttrain_accuracy\tvalid_loss\tvalid_accuracy\ttime\n",
    "47\t0.028688\t0.991340\t0.023420\t0.994000\t01:35\n",
    "48\t0.025667\t0.992040\t0.026166\t0.993400\t01:35\n",
    "49\t0.026175\t0.992140\t0.026399\t0.993900\t01:35\n",
    "mixup a=0,dp=0.35\n",
    "epoch\ttrain_loss\ttrain_accuracy\tvalid_loss\tvalid_accuracy\ttime\n",
    "47\t0.056310\t0.983160\t0.033177\t0.991300\t01:45\n",
    "48\t0.057556\t0.982840\t0.036182\t0.989900\t01:45\n",
    "49\t0.055553\t0.984120\t0.036719\t0.990000\t01:45\n",
    "mixup a=0,dp=0.5\n",
    "epoch\ttrain_loss\ttrain_accuracy\tvalid_loss\tvalid_accuracy\ttime\n",
    "47\t0.157944\t0.955000\t0.055946\t0.983400\t01:36\n",
    "48\t0.158329\t0.955620\t0.055184\t0.984000\t01:36\n",
    "49\t0.152773\t0.956000\t0.060482\t0.982100\t01:36"
   ]
  },
  {
   "cell_type": "raw",
   "metadata": {},
   "source": [
    "mixup a=0,dp=0.0\n",
    "epoch\ttrain_loss\ttrain_accuracy\tvalid_loss\tvalid_accuracy\ttime\n",
    "22\t0.001281\t0.999640\t0.030386\t0.994500\t01:37\n",
    "23\t0.000811\t0.999680\t0.030299\t0.994200\t01:38\n",
    "24\t0.000702\t0.999740\t0.033540\t0.994200\t01:33\n",
    "mixup a=0,dp=0.05\n",
    "22\t0.005543\t0.998360\t0.028869\t0.993300\t01:58\n",
    "23\t0.005191\t0.998200\t0.029488\t0.994100\t02:00\n",
    "24\t0.004897\t0.998440\t0.027794\t0.993800\t03:57\n",
    "mixup a=0,dp=0.15\n",
    "22\t0.017425\t0.994420\t0.025229\t0.994000\t02:21\n",
    "23\t0.018341\t0.994420\t0.026716\t0.993300\t02:26\n",
    "24\t0.016790\t0.994700\t0.027098\t0.993500\t02:24\n",
    "mixup a=0,dp=0.2\n",
    "22\t0.027481\t0.991260\t0.026905\t0.992600\t01:34\n",
    "23\t0.026689\t0.991520\t0.025435\t0.993300\t01:34\n",
    "24\t0.025342\t0.992280\t0.025941\t0.993400\t01:34\n",
    "mixup a=0,dp=0.25\n",
    "22\t0.037765\t0.988460\t0.026889\t0.992700\t02:00\n",
    "23\t0.038515\t0.988600\t0.027589\t0.992800\t02:13\n",
    "24\t0.036307\t0.989140\t0.028511\t0.992400\t21:48\n",
    "mixup a=0,dp=0.5\n",
    "epoch\ttrain_loss\ttrain_accuracy\tvalid_loss\tvalid_accuracy\ttime\n",
    "0\t1.352822\t0.513660\t0.901634\t0.730900\t01:54\n",
    "epoch\ttrain_loss\ttrain_accuracy\tvalid_loss\tvalid_accuracy\ttime\n",
    "0\t1.458517\t0.478060\t0.530267\t0.846800\t01:54\n",
    "1\t0.527371\t0.841180\t0.221124\t0.935300\t01:50\n",
    "2\t0.391545\t0.886660\t0.160652\t0.952300\t01:49\n",
    "epoch\ttrain_loss\ttrain_accuracy\tvalid_loss\tvalid_accuracy\ttime\n",
    "22\t0.185141\t0.947600\t0.069714\t0.980100\t02:43\n",
    "23\t0.186801\t0.947320\t0.071345\t0.979200\t02:20\n",
    "24\t0.181304\t0.949240\t0.066691\t0.980800\t02:22\n",
    "mixup a=0,inpu dp=0, dp=0.5\n",
    "epoch\ttrain_loss\ttrain_accuracy\tvalid_loss\tvalid_accuracy\ttime\n",
    "22\t0.112968\t0.969120\t0.048140\t0.987000\t01:51\n",
    "23\t0.115756\t0.968500\t0.048302\t0.987700\t01:51\n",
    "24\t0.109714\t0.970080\t0.044235\t0.988400\t01:52"
   ]
  },
  {
   "cell_type": "raw",
   "metadata": {},
   "source": [
    "RReLUOffset\n",
    "range=0.05 variable\n",
    "epoch\ttrain_loss\ttrain_accuracy\tvalid_loss\tvalid_accuracy\ttime\n",
    "0\t1.192088\t0.621740\t0.133532\t0.959700\t01:02\n",
    "1\t0.386546\t0.908320\t0.073253\t0.978100\t01:03\n",
    "2\t0.332971\t0.926220\t0.068384\t0.981900\t01:02\n",
    "range=0.05 variable\n",
    "147\t0.176016\t0.982300\t0.028288\t0.993700\t01:01\n",
    "148\t0.180013\t0.982260\t0.025606\t0.994500\t01:03\n",
    "149\t0.178948\t0.982160\t0.024802\t0.994000\t01:03\n",
    "range=0.1 variable\n",
    "297\t0.172661\t0.984120\t0.026931\t0.994000\t00:59\n",
    "298\t0.181617\t0.983080\t0.026804\t0.993600\t00:59\n",
    "299\t0.171760\t0.983540\t0.027606\t0.993300\t00:58\n",
    "range=0.15 variable\n",
    "47\t0.192496\t0.978540\t0.028679\t0.993200\t00:58\n",
    "48\t0.189587\t0.979360\t0.028717\t0.992700\t00:58\n",
    "49\t0.191458\t0.978960\t0.028138\t0.993000\t00:58\n",
    "\n",
    "RReLU opt = Adam(sched,max_lr=2e-2, moms=(0.85,0.95), max_wd = 0)\n",
    "epoch\ttrain_loss\ttrain_accuracy\tvalid_loss\tvalid_accuracy\ttime\n",
    "0\t1.157888\t0.646760\t0.135502\t0.962600\t01:36\n",
    "1\t0.371211\t0.915220\t0.064218\t0.983300\t01:33\n",
    "2\t0.297773\t0.943380\t0.059138\t0.983800\t01:33\n",
    "\n",
    "epoch\ttrain_loss\ttrain_accuracy\tvalid_loss\tvalid_accuracy\ttime\n",
    "0\t1.129894\t0.651640\t0.161251\t0.963400\t01:37\n",
    "epoch\ttrain_loss\ttrain_accuracy\tvalid_loss\tvalid_accuracy\ttime\n",
    "47\t0.196387\t0.979240\t0.025732\t0.993300\t01:30\n",
    "48\t0.195667\t0.979200\t0.026253\t0.993400\t01:31\n",
    "49\t0.203185\t0.977140\t0.025465\t0.993400\t01:31\n",
    "epoch\ttrain_loss\ttrain_accuracy\tvalid_loss\tvalid_accuracy\ttime\n",
    "147\t0.184815\t0.980960\t0.023326\t0.994300\t01:23\n",
    "148\t0.189896\t0.980720\t0.025537\t0.993800\t01:24\n",
    "149\t0.184598\t0.980860\t0.025530\t0.993900\t01:24\n",
    "\n",
    "PReLU opt = Adam(sched,max_lr=2e-2, moms=(0.85,0.95), max_wd = 0)\n",
    "147\t0.171094\t0.983520\t0.024772\t0.994400\t00:55\n",
    "148\t0.174994\t0.982680\t0.024871\t0.994900\t00:55\n",
    "149\t0.172593\t0.983860\t0.026806\t0.994100\t00:55\n",
    "PReLU opt = Adam(sched,max_lr=8e-3, moms=(0.85,0.95), max_wd = 1e-5)\n",
    "epoch\ttrain_loss\ttrain_accuracy\tvalid_loss\tvalid_accuracy\ttime\n",
    "0\t1.427248\t0.548620\t0.210758\t0.946800\t00:58\n",
    "1\t0.404400\t0.905520\t0.085620\t0.977500\t00:58\n",
    "2\t0.333074\t0.925780\t0.057321\t0.985000\t00:58\n",
    "\n",
    "leaky opt = Adam(sched,max_lr=8e-3, moms=(0.85,0.95), max_wd = 1e-5)\n",
    "epoch\ttrain_loss\ttrain_accuracy\tvalid_loss\tvalid_accuracy\ttime\n",
    "0\t1.401064\t0.558540\t0.299973\t0.936200\t01:05\n",
    "1\t0.437581\t0.893500\t0.081989\t0.978700\t01:01\n",
    "2\t0.354960\t0.919700\t0.072145\t0.982100\t01:02"
   ]
  },
  {
   "cell_type": "code",
   "execution_count": 24,
   "metadata": {},
   "outputs": [
    {
     "name": "stdout",
     "output_type": "stream",
     "text": [
      "<class 'torch.nn.modules.dropout.Dropout'> torch.Size([128, 1, 28, 28])\n",
      "<class 'torch.nn.modules.conv.Conv2d'> torch.Size([128, 16, 28, 28])\n",
      "<class 'torch.nn.modules.batchnorm.BatchNorm2d'> torch.Size([128, 16, 28, 28])\n",
      "<class 'torch.nn.modules.dropout.Dropout'> torch.Size([128, 16, 28, 28])\n",
      "<class '__main__.RReLUOffset'> torch.Size([128, 16, 28, 28])\n",
      "<class 'torch.nn.modules.dropout.Dropout'> torch.Size([128, 16, 28, 28])\n",
      "<class 'torch.nn.modules.conv.Conv2d'> torch.Size([128, 32, 14, 14])\n",
      "<class 'torch.nn.modules.batchnorm.BatchNorm2d'> torch.Size([128, 32, 14, 14])\n",
      "<class 'torch.nn.modules.dropout.Dropout'> torch.Size([128, 32, 14, 14])\n",
      "<class '__main__.RReLUOffset'> torch.Size([128, 32, 14, 14])\n",
      "<class 'torch.nn.modules.dropout.Dropout'> torch.Size([128, 32, 14, 14])\n",
      "<class 'torch.nn.modules.conv.Conv2d'> torch.Size([128, 32, 14, 14])\n",
      "<class 'torch.nn.modules.batchnorm.BatchNorm2d'> torch.Size([128, 32, 14, 14])\n",
      "<class 'torch.nn.modules.dropout.Dropout'> torch.Size([128, 32, 14, 14])\n",
      "<class '__main__.RReLUOffset'> torch.Size([128, 32, 14, 14])\n",
      "<class 'lib.model.ResBlock'> torch.Size([128, 64, 7, 7])\n",
      "<class 'lib.model.ResBlock'> torch.Size([128, 64, 4, 4])\n",
      "<class 'lib.model.ResBlock'> torch.Size([128, 128, 2, 2])\n",
      "<class 'lib.model.ResBlock'> torch.Size([128, 128, 1, 1])\n",
      "<class 'torch.nn.modules.pooling.AdaptiveAvgPool2d'> torch.Size([128, 128, 1, 1])\n",
      "<class 'lib.model.Flatten'> torch.Size([128, 128])\n",
      "<class 'torch.nn.modules.dropout.Dropout'> torch.Size([128, 128])\n",
      "<class 'torch.nn.modules.linear.Linear'> torch.Size([128, 69])\n",
      "<class 'torch.nn.modules.batchnorm.BatchNorm1d'> torch.Size([128, 69])\n",
      "<class '__main__.RReLUOffset'> torch.Size([128, 69])\n",
      "<class 'torch.nn.modules.batchnorm.BatchNorm1d'> torch.Size([128, 69])\n",
      "<class 'torch.nn.modules.dropout.Dropout'> torch.Size([128, 69])\n",
      "<class 'torch.nn.modules.linear.Linear'> torch.Size([128, 10])\n"
     ]
    }
   ],
   "source": [
    "mm.summary(mnist_view(xb))\n",
    "#print(dict(mm.model.named_buffers()).keys())"
   ]
  },
  {
   "cell_type": "code",
   "execution_count": 66,
   "metadata": {
    "scrolled": true
   },
   "outputs": [
    {
     "data": {
      "image/png": "[encoded data removed]",
      "text/plain": [
       "<Figure size 432x288 with 1 Axes>"
      ]
     },
     "metadata": {
      "needs_background": "light"
     },
     "output_type": "display_data"
    },
    {
     "data": {
      "text/plain": [
       "(None, None)"
      ]
     },
     "execution_count": 66,
     "metadata": {},
     "output_type": "execute_result"
    }
   ],
   "source": [
    "#learn.find_subcription_by_cls(LRFinder).plot_loss(skip_end=8),plt.show()\n",
    "learn.find_subcription_by_cls(Recorder).plot_loss(),plt.show()\n",
    "#learn.find_subcription_by_cls(Recorder).plot_lr(),plt.show()"
   ]
  },
  {
   "cell_type": "markdown",
   "metadata": {
    "heading_collapsed": true
   },
   "source": [
    "## LAMB: steppers=[lamb_step]"
   ]
  },
  {
   "cell_type": "markdown",
   "metadata": {
    "hidden": true
   },
   "source": [
    "It's then super easy to implement a new optimizer. This is LAMB from a [very recent paper](https://arxiv.org/pdf/1904.00962.pdf):\n",
    "\n",
    "$\\begin{align}\n",
    "g_{t}^{l} &= \\nabla L(w_{t-1}^{l}, x_{t}) \\\\\n",
    "m_{t}^{l} &= \\beta_{1} m_{t-1}^{l} + (1-\\beta_{1}) g_{t}^{l} \\\\\n",
    "v_{t}^{l} &= \\beta_{2} v_{t-1}^{l} + (1-\\beta_{2}) g_{t}^{l} \\odot g_{t}^{l} \\\\\n",
    "m_{t}^{l} &= m_{t}^{l} / (1 - \\beta_{1}^{t}) \\\\\n",
    "v_{t}^{l} &= v_{t}^{l} / (1 - \\beta_{2}^{t}) \\\\\n",
    "r_{1} &= \\|w_{t-1}^{l}\\|_{2} \\\\\n",
    "s_{t}^{l} &= \\frac{m_{t}^{l}}{\\sqrt{v_{t}^{l} + \\epsilon}} + \\lambda w_{t-1}^{l} \\\\ \n",
    "r_{2} &= \\| s_{t}^{l} \\|_{2} \\\\\n",
    "\\eta^{l} &= \\eta * r_{1}/r_{2} \\\\ \n",
    "w_{t}^{l} &= w_{t}^{l-1} - \\eta_{l} * s_{t}^{l} \\\\\n",
    "\\end{align}$"
   ]
  },
  {
   "cell_type": "code",
   "execution_count": null,
   "metadata": {
    "hidden": true
   },
   "outputs": [],
   "source": [
    "mm    = CnnModelManager( get_cnn_model(layers_sizes, data.c_in, data.c_out, layer=layer) )\n",
    "mm.initialize(is_resnet=False)\n",
    "\n",
    "opt   = LAMB(sched,max_lr=0.02, moms=(0.85,0.95), max_wd = 1e-4)     \n",
    "#opt   = LAMB(sched,max_lr=0.005, moms=(0.85,0.95), max_wd = 1e-4)     #with mixup\n",
    "learn = Learner( mm.model, data, loss_func=F.cross_entropy)\n",
    "%time learn.fit(1, opt=opt, cb_funcs=cbfs)"
   ]
  },
  {
   "cell_type": "code",
   "execution_count": null,
   "metadata": {
    "hidden": true,
    "scrolled": false
   },
   "outputs": [],
   "source": [
    "learn.find_subcription_by_cls(Recorder).plot_loss(),plt.show()\n",
    "learn.find_subcription_by_cls(Recorder).plot_lr(),plt.show()"
   ]
  },
  {
   "cell_type": "markdown",
   "metadata": {},
   "source": [
    "## mnist with adam and hooks"
   ]
  },
  {
   "cell_type": "code",
   "execution_count": null,
   "metadata": {
    "scrolled": false
   },
   "outputs": [],
   "source": [
    "#activ_func = partial(nn.ReLU,inplace=True) \n",
    "activ_func = partial(ReLUOffset) \n",
    "model = partial(xresnet18, c_in=data.c_in, c_out=data.c_out, activ_func=activ_func)()\n",
    "#model = get_cnn_model(layers_sizes, data.c_in, data.c_out, layer=layer)\n",
    "mm    = CnnModelManager( model )\n",
    "mm.initialize(is_resnet=True, a=0.015, nonlinearity=\"leaky_relu\")\n",
    "\n",
    "#model = partial(xresnet18, c_in=data.c_in, c_out=data.c_out)()\n",
    "#opt   = Adam(sched,max_lr=0.05, moms=(0.85,0.95), max_wd = 1e-3)\n",
    "opt     = Adam(sched,max_lr=5e-3, moms=(0.85,0.95), max_wd = 1e-5)#1e-6)# xresnet18\n",
    "learn   = Learner( mm.model, data, loss_func=F.cross_entropy)\n",
    "modules = find_submodules(mm.model, lambda m: isinstance(m, (nn.Conv2d,nn.Linear,nn.AvgPool2d,nn.AdaptiveAvgPool2d) ))\n",
    "#print(modules)\n",
    "with Hooks(modules, append_stats) as hooks: \n",
    "    #learn.fit(3, opt=opt, cb_funcs=cbfs.copy()+[partial(MixUp,α=0.025)])    \n",
    "    learn.fit(3, opt=opt, cb_funcs=cbfs)    \n",
    "    plot_layer_stats( hooks )"
   ]
  },
  {
   "cell_type": "code",
   "execution_count": null,
   "metadata": {},
   "outputs": [],
   "source": [
    "mnist_view(xb).shape"
   ]
  },
  {
   "cell_type": "code",
   "execution_count": null,
   "metadata": {},
   "outputs": [],
   "source": [
    "mm.summary(mnist_view(xb))"
   ]
  },
  {
   "cell_type": "markdown",
   "metadata": {
    "heading_collapsed": true
   },
   "source": [
    "## mnist with LAMB and hooks"
   ]
  },
  {
   "cell_type": "code",
   "execution_count": null,
   "metadata": {
    "hidden": true,
    "scrolled": false
   },
   "outputs": [],
   "source": [
    "#model = CnnModelManager( partial(xresnet18, c_in=data.c_in, c_out=data.c_out)() )\n",
    "mm    = CnnModelManager( get_cnn_model(layers_sizes, data.c_in, data.c_out, layer=layer) )\n",
    "mm.initialize(is_resnet=False)\n",
    "\n",
    "opt   = LAMB(sched,max_lr=0.008, moms=(0.85,0.95), max_wd = 1e-6)     \n",
    "learn = Learner( mm.model, data, loss_func=F.cross_entropy)\n",
    "with Hooks(mm.model, append_stats) as hooks: \n",
    "    learn.fit(3, opt=opt, cb_funcs=cbfs)\n",
    "    plot_layer_stats( hooks )"
   ]
  }
 ],
 "metadata": {
  "kernelspec": {
   "display_name": "Python 3",
   "language": "python",
   "name": "python3"
  },
  "language_info": {
   "codemirror_mode": {
    "name": "ipython",
    "version": 3
   },
   "file_extension": ".py",
   "mimetype": "text/x-python",
   "name": "python",
   "nbconvert_exporter": "python",
   "pygments_lexer": "ipython3",
   "version": "3.7.2"
  }
 },
 "nbformat": 4,
 "nbformat_minor": 2
}
