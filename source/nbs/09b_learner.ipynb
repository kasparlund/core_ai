{
 "cells": [
  {
   "cell_type": "markdown",
   "metadata": {},
   "source": [
    "# nodebook 09b: Optimizer tweaks"
   ]
  },
  {
   "cell_type": "code",
   "execution_count": 1,
   "metadata": {},
   "outputs": [],
   "source": [
    "%load_ext autoreload\n",
    "%autoreload 2\n",
    "\n",
    "%matplotlib inline"
   ]
  },
  {
   "cell_type": "code",
   "execution_count": 2,
   "metadata": {},
   "outputs": [],
   "source": [
    "import torch\n",
    "def cuda(self, device=None, non_blocking=False) :\n",
    "    #let me be on my mac\n",
    "    return self\n",
    "torch.Tensor.cuda = cuda"
   ]
  },
  {
   "cell_type": "code",
   "execution_count": 3,
   "metadata": {},
   "outputs": [],
   "source": [
    "from exp.nb_09 import *\n",
    "from functools import partial"
   ]
  },
  {
   "cell_type": "markdown",
   "metadata": {},
   "source": [
    "## Learner"
   ]
  },
  {
   "cell_type": "code",
   "execution_count": 4,
   "metadata": {},
   "outputs": [],
   "source": [
    "from enum import Enum,auto\n",
    "\n",
    "class Event():\n",
    "    def __init__(self,learner:Learner):\n",
    "        self.learn = learner\n",
    "        \n",
    "class Callback():\n",
    "    @property\n",
    "    def name(self):\n",
    "        name = re.sub(r'Callback$', '', self.__class__.__name__)\n",
    "        return camel2snake(name or 'callback')\n",
    "\n",
    "class Stages(Enum):\n",
    "    begin_fit = auto()\n",
    "    begin_epoch = auto()\n",
    "    begin_batch = auto()\n",
    "    begin_prediction = auto()\n",
    "    after_prediction = auto()\n",
    "    begin_loss = auto()\n",
    "    after_loss = auto()\n",
    "    begin_backwards = auto()\n",
    "    after_backwards = auto()\n",
    "    begin_step = auto()\n",
    "    after_step = auto()\n",
    "    after_batch = auto()\n",
    "    after_epoch = auto()\n",
    "    after_fit = auto()\n",
    "    begin_validate = auto()\n",
    "    after_validate = auto()  \n",
    "    begin_train = auto()\n",
    "    after_train = auto()  \n",
    "    \n",
    "train_batch_stages = [Stages.begin_prediction, Stages.after_prediction,\n",
    "                      Stages.begin_loss,       Stages.after_loss,\n",
    "                      Stages.begin_backwards,  Stages.after_backwards,\n",
    "                      Stages.begin_step,       Stages.after_step ]\n",
    "valid_batch_stages = [Stages.begin_prediction, Stages.after_prediction,\n",
    "                      Stages.begin_loss,       Stages.after_loss ]\n",
    "    "
   ]
  },
  {
   "cell_type": "code",
   "execution_count": 5,
   "metadata": {},
   "outputs": [],
   "source": [
    "class Messenger():\n",
    "    subscriptions = []    \n",
    "        \n",
    "    # cbs is instances of Callback whereas cb_funcs are functions that initializes a Callback \n",
    "    def register( self, cb:Callback ): self.subscriptions.append(cb)\n",
    "        \n",
    "    def register_callback_functions( self, cb_funcs ):\n",
    "        for cbf in listify(cb_funcs): self.register(cbf())\n",
    "        \n",
    "    def notify(self, msg:Stages, event):\n",
    "        for cb in self.subscriptions: \n",
    "            f = getattr(cb, msg.name, None)\n",
    "            if f is not None and not event.learn.stop: \n",
    "                #print(f\"in_train: {event.learn.in_train } callback: {type(cb).__name__}.{msg.name}\")            \n",
    "                f(event)\n",
    "            if event.learn.stop:break\n",
    "                \n",
    "#are we missing a begin_train that match begin_validate??????\n",
    "class Learner():\n",
    "    msn      = Messenger()\n",
    "    in_train = False\n",
    "    n_epochs = 0\n",
    "    epochs   = 0\n",
    "    loss     = -1\n",
    "    \n",
    "    def __init__(self, model, data, loss_func, opt, cb_funcs):\n",
    "        self.model,self.data,self.loss_func,self.opt = model,data,loss_func,opt\n",
    "        self.msn.register_callback_functions(cb_funcs)\n",
    "        #for cb in listify(cbs): self.msn.register(cb)\n",
    "        self._stop = False\n",
    "\n",
    "    def find_subcription_by_cls(self,cls):\n",
    "        for s in learn.msn.subscriptions:\n",
    "            if type(s) == cls:return s\n",
    "        \n",
    "    @property\n",
    "    def stop(self): return self._stop\n",
    "    @stop.setter \n",
    "    def stop(self, value): \n",
    "        if not self._stop : self._stop = value \n",
    "\n",
    "    def fit(self, epochs):\n",
    "        self.epochs, self.loss = epochs, tensor(0.)\n",
    "        event = Event(self)\n",
    "        try:\n",
    "            self.msn.notify(Stages.begin_fit,event)\n",
    "            for epoch in range(epochs):\n",
    "                if self.stop: break\n",
    "                print(f\"epoch: {epoch}\")\n",
    "                    \n",
    "                self.epoch = epoch\n",
    "                self.msn.notify(Stages.begin_epoch,event)\n",
    "                \n",
    "                self.in_train = True\n",
    "                self.msn.notify(Stages.begin_train,event)\n",
    "                self.all_batches(train_batch_stages, self.data.train_dl)\n",
    "                self.msn.notify(Stages.after_train,event)\n",
    "                self.in_train = False\n",
    "                \n",
    "                with torch.no_grad():\n",
    "                    self.msn.notify(Stages.begin_validate,event)\n",
    "                    self.all_batches(valid_batch_stages, self.data.valid_dl)\n",
    "                    self.msn.notify(Stages.after_validate,event)\n",
    "                        \n",
    "                self.msn.notify(Stages.after_epoch,event)\n",
    "        except Exception as e: self.exception_handler(e)\n",
    "        finally: self.msn.notify(Stages.after_fit,event)\n",
    "            \n",
    "        \n",
    "    def all_batches(self, batch_stages, dl):\n",
    "        ite_count, self.iters = 0, len(dl)\n",
    "        try:\n",
    "            for xb,yb in dl: \n",
    "                if self.stop: break\n",
    "                self.one_batch(batch_stages, xb, yb)\n",
    "                ite_count+=1\n",
    "                p = (100*ite_count)//self.iters\n",
    "                if p%10==0 : print(f\"{p} %\")\n",
    "        except Exception as e: self.exception_handler(e)\n",
    "                            \n",
    "    def one_batch(self, batch_stages, xb, yb):\n",
    "        event = Event(self)        \n",
    "        try:\n",
    "            self.xb,self.yb = xb,yb\n",
    "            self.msn.notify(Stages.begin_batch,event)\n",
    "            for msg in batch_stages: \n",
    "                self.msn.notify(msg,event)\n",
    "        except Exception as e: self.exception_handler(e)\n",
    "        finally: self.msn.notify(Stages.after_batch,event)\n",
    "\n",
    "    def exception_handler(self, e:Exception ):\n",
    "        self.stop = True\n",
    "        import traceback\n",
    "        print(\"exception: {e}\")\n",
    "        tb = traceback.format_exc()            \n",
    "        print(f\"exception received 3\\n:{tb}\")\n",
    "        "
   ]
  },
  {
   "cell_type": "markdown",
   "metadata": {},
   "source": [
    "## Callbacks"
   ]
  },
  {
   "cell_type": "code",
   "execution_count": 6,
   "metadata": {},
   "outputs": [],
   "source": [
    "class AvgStats():\n",
    "    def __init__(self, metrics, in_train): self.metrics,self.in_train = listify(metrics),in_train\n",
    "\n",
    "    def reset(self):\n",
    "        self.tot_loss,self.count = 0.,0\n",
    "        self.tot_mets = [0.] * len(self.metrics)\n",
    "\n",
    "    @property\n",
    "    def all_stats(self): return [self.tot_loss.item()] + self.tot_mets\n",
    "    @property\n",
    "    def avg_stats(self): return [o/self.count for o in self.all_stats]\n",
    "\n",
    "    def __repr__(self):\n",
    "        if not self.count: return \"\"\n",
    "        return f\"{'train' if self.in_train else 'valid'}: {self.avg_stats}\"\n",
    "\n",
    "    def accumulate(self, learn):\n",
    "        bn = learn.xb.shape[0]\n",
    "        self.tot_loss += learn.loss * bn\n",
    "        self.count += bn\n",
    "        for i,m in enumerate(self.metrics):\n",
    "            self.tot_mets[i] += m(learn.preds, learn.yb) * bn\n"
   ]
  },
  {
   "cell_type": "code",
   "execution_count": 7,
   "metadata": {},
   "outputs": [],
   "source": [
    "class AvgStatsCallback(Callback):\n",
    "    def __init__(self, metrics):\n",
    "        self.train_stats, self.valid_stats = AvgStats(metrics,True), AvgStats(metrics,False)\n",
    "\n",
    "    def begin_epoch(self, e:Event):\n",
    "        self.train_stats.reset()\n",
    "        self.valid_stats.reset()\n",
    "\n",
    "    def after_loss(self, e:Event):\n",
    "        stats = self.train_stats if e.learn.in_train else self.valid_stats\n",
    "        with torch.no_grad(): stats.accumulate(e.learn)\n",
    "\n",
    "    def after_epoch(self, e:Event):\n",
    "        print(self.train_stats)\n",
    "        print(self.valid_stats)\n",
    "        \n",
    "        \n",
    "class Recorder(Callback):   \n",
    "    def begin_fit(self, e:Event):\n",
    "        self.lrs = [[] for _ in e.learn.opt.param_groups]\n",
    "        self.losses = []\n",
    "\n",
    "    def after_batch(self, e:Event):\n",
    "        if e.learn.in_train:         \n",
    "            for pg,lr in zip(e.learn.opt.param_groups, self.lrs): lr.append(pg['lr'])\n",
    "            self.losses.append(e.learn.loss.detach().cpu())\n",
    "\n",
    "    def plot_lr  (self, pgid=-1): plt.plot(self.lrs[pgid])\n",
    "    def plot_loss(self):          plt.plot(self.losses)\n",
    "\n",
    "        \n",
    "class CudaCallback(Callback):\n",
    "    def begin_fit(self, e:Event): e.learn.model.cuda()\n",
    "        \n",
    "    def begin_batch(self, e:Event): e.learn.xb,e.learn.yb = e.learn.xb.cuda(),e.learn.yb.cuda()\n",
    "\n",
    "        \n",
    "class BatchTransformXCallback(Callback):\n",
    "    def __init__(self, tfm): self.tfm = tfm\n",
    "    def begin_batch(self, e:Event): e.learn.xb = self.tfm(e.learn.xb)\n",
    "\n",
    "        \n",
    "#must always be used for training        \n",
    "class TrainableModelCallback(Callback):\n",
    "    def begin_prediction(self,e:Event): e.learn.preds = e.learn.model(e.learn.xb)\n",
    "\n",
    "    def begin_backwards(self,e:Event): \n",
    "        if e.learn.in_train: e.learn.loss.backward()\n",
    "    \n",
    "    def begin_loss(self,e:Event): e.learn.loss = e.learn.loss_func(e.learn.preds, e.learn.yb)\n",
    "\n",
    "#must always be used for training        \n",
    "class TrainEvalCallback(Callback):\n",
    "    def begin_train(self,e:Event): \n",
    "        if e.learn.in_train: e.learn.model.train()\n",
    "\n",
    "    def begin_validate(self, e:Event): e.learn.model.eval()\n",
    "      \n",
    " #must always be used for training        \n",
    "class ParamScheduler(Callback):\n",
    "    def __init__(self, pname, sched_funcs): self.pname, self.sched_funcs = pname,sched_funcs\n",
    "\n",
    "    def begin_fit(self,e:Event):\n",
    "        #count iteration to adjust the training params to the progress in the training cycle\n",
    "        self.n_iter = 0\n",
    "        \n",
    "        if not isinstance(self.sched_funcs, (list,tuple)):\n",
    "            self.sched_funcs = [self.sched_funcs] * len(e.learn.opt.param_groups)\n",
    "            \n",
    "    def set_param(self, e):\n",
    "        assert len(e.learn.opt.param_groups)==len(self.sched_funcs)\n",
    "        fractional_cycle = min(1.,self.n_iter /(e.learn.iters * e.learn.epochs))\n",
    "        for pg,f in zip(e.learn.opt.param_groups,self.sched_funcs):\n",
    "            pg[self.pname] = f(fractional_cycle)\n",
    "\n",
    "    def begin_batch(self,e:Event): \n",
    "        if e.learn.in_train: self.set_param(e)       \n",
    "\n",
    "    def after_batch(self,e:Event): \n",
    "        if e.learn.in_train: self.n_iter += 1\n",
    "\n",
    "#used for alle training\n",
    "class OptimizerCallback(Callback):\n",
    "    def begin_step(self, e:Event):\n",
    "        if e.learn.in_train: e.learn.opt.step()\n",
    "            \n",
    "    def after_step(self, e:Event):            \n",
    "        if e.learn.in_train: e.learn.opt.zero_grad()   \n",
    "            "
   ]
  },
  {
   "cell_type": "markdown",
   "metadata": {},
   "source": [
    "## Other functions"
   ]
  },
  {
   "cell_type": "raw",
   "metadata": {},
   "source": [
    "def combine_scheds(pcts, scheds):\n",
    "    assert sum(pcts) == 1.\n",
    "    pcts = tensor([0] + pcts)\n",
    "    assert torch.all(pcts >= 0)\n",
    "    pcts = torch.cumsum(pcts, 0)\n",
    "    def _inner(pos):\n",
    "        idx = (pos >= pcts).nonzero().max()\n",
    "        actual_pos = (pos-pcts[idx]) / (pcts[idx+1]-pcts[idx])\n",
    "        return scheds[idx](actual_pos)\n",
    "    return _inner\n",
    "            "
   ]
  },
  {
   "cell_type": "markdown",
   "metadata": {
    "heading_collapsed": true
   },
   "source": [
    "## MNIST"
   ]
  },
  {
   "cell_type": "code",
   "execution_count": 8,
   "metadata": {
    "hidden": true
   },
   "outputs": [],
   "source": [
    "#export\n",
    "class Lambda(nn.Module):\n",
    "    def __init__(self, func):\n",
    "        super().__init__()\n",
    "        self.func = func\n",
    "    def forward(self, x): return self.func(x)\n",
    "    \n",
    "def flatten(x):      return x.view(x.shape[0], -1)\n",
    "\n",
    "#This one takes the flat vector of size `bs x 784` and puts it back as a batch of images of 28 by 28 pixels:\n",
    "def mnist_resize(x): return x.view(-1, 1, 28, 28)"
   ]
  },
  {
   "cell_type": "code",
   "execution_count": 9,
   "metadata": {
    "hidden": true
   },
   "outputs": [],
   "source": [
    "def get_mnist_cnn_model(data, output_features):\n",
    "    return nn.Sequential(\n",
    "        Lambda(mnist_resize),\n",
    "        nn.Conv2d( 1, 8, 5, padding=2,stride=2), nn.ReLU(), #14\n",
    "        nn.Conv2d( 8,16, 3, padding=1,stride=2), nn.ReLU(), # 7\n",
    "        nn.Conv2d(16,32, 3, padding=1,stride=2), nn.ReLU(), # 4\n",
    "        nn.Conv2d(32,32, 3, padding=1,stride=2), nn.ReLU(), # 2\n",
    "        nn.AdaptiveAvgPool2d(1),\n",
    "        Lambda(flatten),\n",
    "        nn.Linear(32,output_features)\n",
    "    )"
   ]
  },
  {
   "cell_type": "code",
   "execution_count": 10,
   "metadata": {
    "hidden": true
   },
   "outputs": [
    {
     "data": {
      "text/plain": [
       "(tensor(0.0001), tensor(1.))"
      ]
     },
     "execution_count": 10,
     "metadata": {},
     "output_type": "execute_result"
    }
   ],
   "source": [
    "x_train,y_train,x_valid,y_valid = get_data()\n",
    "x_train,x_valid   = normalize_to(x_train,x_valid)\n",
    "\n",
    "x_train.mean(),x_train.std()"
   ]
  },
  {
   "cell_type": "code",
   "execution_count": 11,
   "metadata": {
    "hidden": true
   },
   "outputs": [],
   "source": [
    "nh,bs, output_features = 50,512,y_train.max().item()+1\n",
    "train_ds,valid_ds      = Dataset(x_train, y_train),Dataset(x_valid, y_valid)\n",
    "train_dl, valid_dl     = ( DataLoader( train_ds, batch_size=bs, shuffle=True), \n",
    "                           DataLoader(valid_ds,  batch_size=bs*2) )\n",
    "data                   = DataBunch( train_dl, valid_dl )"
   ]
  },
  {
   "cell_type": "code",
   "execution_count": 12,
   "metadata": {
    "hidden": true
   },
   "outputs": [],
   "source": [
    "model     = get_mnist_cnn_model(data, output_features)\n",
    "loss_func = F.cross_entropy\n",
    "opt       = torch.optim.SGD(model.parameters(), lr=0.01)\n",
    "sched     = combine_scheds([0.3, 0.7], [sched_cos(0.3, 0.6), sched_cos(0.6, 0.2)]) \n",
    "cbfs      = [TrainableModelCallback, TrainEvalCallback, OptimizerCallback, partial(ParamScheduler, 'lr', sched),\n",
    "             Recorder, partial(AvgStatsCallback,accuracy)]\n",
    "\n",
    "learn     = Learner( model, data, loss_func, opt=opt, cb_funcs=cbfs)"
   ]
  },
  {
   "cell_type": "code",
   "execution_count": 13,
   "metadata": {
    "hidden": true,
    "scrolled": true
   },
   "outputs": [
    {
     "name": "stdout",
     "output_type": "stream",
     "text": [
      "epoch: 0\n",
      "10 %\n",
      "20 %\n",
      "30 %\n",
      "40 %\n",
      "50 %\n",
      "60 %\n",
      "70 %\n",
      "80 %\n",
      "90 %\n",
      "100 %\n",
      "10 %\n",
      "20 %\n",
      "30 %\n",
      "40 %\n",
      "50 %\n",
      "60 %\n",
      "70 %\n",
      "80 %\n",
      "90 %\n",
      "100 %\n",
      "train: [2.218865, tensor(0.1887)]\n",
      "valid: [1.950932421875, tensor(0.3103)]\n",
      "epoch: 1\n",
      "10 %\n",
      "20 %\n",
      "30 %\n",
      "40 %\n",
      "50 %\n",
      "60 %\n",
      "70 %\n",
      "80 %\n",
      "90 %\n",
      "100 %\n",
      "10 %\n",
      "20 %\n",
      "30 %\n",
      "40 %\n",
      "50 %\n",
      "60 %\n",
      "70 %\n",
      "80 %\n",
      "90 %\n",
      "100 %\n",
      "train: [0.842150703125, tensor(0.7189)]\n",
      "valid: [0.2488197998046875, tensor(0.9269)]\n",
      "epoch: 2\n",
      "10 %\n",
      "20 %\n",
      "30 %\n",
      "40 %\n",
      "50 %\n",
      "60 %\n",
      "70 %\n",
      "80 %\n",
      "90 %\n",
      "100 %\n",
      "10 %\n",
      "20 %\n",
      "30 %\n",
      "40 %\n",
      "50 %\n",
      "60 %\n",
      "70 %\n",
      "80 %\n",
      "90 %\n",
      "100 %\n",
      "train: [0.21651556640625, tensor(0.9344)]\n",
      "valid: [0.15874683837890624, tensor(0.9517)]\n",
      "CPU times: user 30.6 s, sys: 401 ms, total: 31 s\n",
      "Wall time: 10.5 s\n"
     ]
    }
   ],
   "source": [
    "%time learn.fit(3)"
   ]
  },
  {
   "cell_type": "code",
   "execution_count": 14,
   "metadata": {
    "hidden": true
   },
   "outputs": [
    {
     "data": {
      "image/png": "[encoded data removed]",
      "text/plain": [
       "<Figure size 432x288 with 1 Axes>"
      ]
     },
     "metadata": {
      "needs_background": "light"
     },
     "output_type": "display_data"
    },
    {
     "data": {
      "text/plain": [
       "tensor(0.1716)"
      ]
     },
     "execution_count": 14,
     "metadata": {},
     "output_type": "execute_result"
    },
    {
     "data": {
      "image/png": "[encoded data removed]",
      "text/plain": [
       "<Figure size 432x288 with 1 Axes>"
      ]
     },
     "metadata": {
      "needs_background": "light"
     },
     "output_type": "display_data"
    }
   ],
   "source": [
    "learn.find_subcription_by_cls(Recorder).plot_lr(),plt.show()\n",
    "learn.find_subcription_by_cls(Recorder).plot_loss()\n",
    "learn.loss"
   ]
  },
  {
   "cell_type": "markdown",
   "metadata": {},
   "source": [
    "## Imagenette data"
   ]
  },
  {
   "cell_type": "code",
   "execution_count": 15,
   "metadata": {},
   "outputs": [],
   "source": [
    "def init_cnn(m, uniform=False):\n",
    "    f = init.kaiming_uniform_ if uniform else init.kaiming_normal_\n",
    "    init_cnn_(m, f)\n",
    "    return m"
   ]
  },
  {
   "cell_type": "code",
   "execution_count": 16,
   "metadata": {},
   "outputs": [],
   "source": [
    "path = datasets.untar_data(datasets.URLs.IMAGENETTE_160)"
   ]
  },
  {
   "cell_type": "code",
   "execution_count": 17,
   "metadata": {},
   "outputs": [],
   "source": [
    "tfms = [make_rgb, ResizeFixed(128), to_byte_tensor, to_float_tensor]\n",
    "il   = ImageItemList.from_files(path, tfms=tfms)\n",
    "sd   = SplitData.split_by_func(il, partial(grandparent_splitter, valid_name='val'))\n",
    "ll   = label_by_func(sd, parent_labeler)\n",
    "bs   = 64\n",
    "\n",
    "#train_dl,valid_dl = get_dls(ll.train,ll.valid, bs, num_workers=4)\n",
    "train_dl,valid_dl = ( DataLoader(ll.train, batch_size=bs,   num_workers=4, shuffle=True),\n",
    "                      DataLoader(ll.valid, batch_size=bs*2, num_workers=4))"
   ]
  },
  {
   "cell_type": "raw",
   "metadata": {},
   "source": [
    "layers_sizes = [32,64,128,256,512]"
   ]
  },
  {
   "cell_type": "code",
   "execution_count": 18,
   "metadata": {},
   "outputs": [],
   "source": [
    "sched = combine_scheds([0.3, 0.7], [sched_cos(0.3, 0.6), sched_cos(0.6, 0.2)]) \n",
    "cbfs = [TrainableModelCallback, TrainEvalCallback, OptimizerCallback, partial(ParamScheduler, 'lr', sched),\n",
    "        partial(BatchTransformXCallback, norm_imagenette),\n",
    "        Recorder, partial(AvgStatsCallback,accuracy),\n",
    "        #CudaCallback,\n",
    "       ]"
   ]
  },
  {
   "cell_type": "code",
   "execution_count": 19,
   "metadata": {},
   "outputs": [],
   "source": [
    "data = DataBunch(train_dl, valid_dl, 3, 10)"
   ]
  },
  {
   "cell_type": "code",
   "execution_count": 20,
   "metadata": {},
   "outputs": [],
   "source": [
    "layers_sizes = [32]*4"
   ]
  },
  {
   "cell_type": "code",
   "execution_count": 21,
   "metadata": {},
   "outputs": [],
   "source": [
    "model = init_cnn( get_cnn_model(data, layers_sizes, conv_layer) )\n",
    "opt   = torch.optim.SGD(model.parameters(), lr=0.5)\n",
    "learn = Learner( model, data, loss_func=F.cross_entropy, opt=opt, cb_funcs=cbfs)"
   ]
  },
  {
   "cell_type": "code",
   "execution_count": 22,
   "metadata": {},
   "outputs": [
    {
     "name": "stdout",
     "output_type": "stream",
     "text": [
      "epoch: 0\n",
      "exception: {e}\n",
      "exception received 3\n",
      ":Traceback (most recent call last):\n",
      "  File \"<ipython-input-5-9880ca97098f>\", line 87, in one_batch\n",
      "    self.msn.notify(msg,event)\n",
      "  File \"<ipython-input-5-9880ca97098f>\", line 15, in notify\n",
      "    f(event)\n",
      "  File \"<ipython-input-7-97faddfeea94>\", line 48, in begin_backwards\n",
      "    if e.learn.in_train: e.learn.loss.backward()\n",
      "  File \"/anaconda3/envs/fastai/lib/python3.7/site-packages/torch/tensor.py\", line 102, in backward\n",
      "    torch.autograd.backward(self, gradient, retain_graph, create_graph)\n",
      "  File \"/anaconda3/envs/fastai/lib/python3.7/site-packages/torch/autograd/__init__.py\", line 90, in backward\n",
      "    allow_unreachable=True)  # allow_unreachable flag\n",
      "RuntimeError: Trying to backward through the graph a second time, but the buffers have already been freed. Specify retain_graph=True when calling backward the first time.\n",
      "\n",
      "0 %\n",
      "CPU times: user 4.57 s, sys: 1.28 s, total: 5.86 s\n",
      "Wall time: 5.65 s\n"
     ]
    }
   ],
   "source": [
    "%time learn.fit(1)"
   ]
  },
  {
   "cell_type": "code",
   "execution_count": 23,
   "metadata": {},
   "outputs": [
    {
     "data": {
      "image/png": "[encoded data removed]",
      "text/plain": [
       "<Figure size 432x288 with 1 Axes>"
      ]
     },
     "metadata": {
      "needs_background": "light"
     },
     "output_type": "display_data"
    },
    {
     "data": {
      "image/png": "[encoded data removed]",
      "text/plain": [
       "<Figure size 432x288 with 1 Axes>"
      ]
     },
     "metadata": {
      "needs_background": "light"
     },
     "output_type": "display_data"
    },
    {
     "data": {
      "text/plain": [
       "tensor(2.4465, grad_fn=<NllLossBackward>)"
      ]
     },
     "execution_count": 23,
     "metadata": {},
     "output_type": "execute_result"
    }
   ],
   "source": [
    "learn.find_subcription_by_cls(Recorder).plot_lr(),plt.show()\n",
    "learn.find_subcription_by_cls(Recorder).plot_loss(),plt.show()\n",
    "learn.loss"
   ]
  },
  {
   "cell_type": "markdown",
   "metadata": {},
   "source": [
    "## Export"
   ]
  },
  {
   "cell_type": "raw",
   "metadata": {},
   "source": [
    "!./notebook2script.py 09b_learner.ipynb"
   ]
  }
 ],
 "metadata": {
  "kernelspec": {
   "display_name": "Python 3",
   "language": "python",
   "name": "python3"
  },
  "language_info": {
   "codemirror_mode": {
    "name": "ipython",
    "version": 3
   },
   "file_extension": ".py",
   "mimetype": "text/x-python",
   "name": "python",
   "nbconvert_exporter": "python",
   "pygments_lexer": "ipython3",
   "version": "3.7.2"
  }
 },
 "nbformat": 4,
 "nbformat_minor": 2
}
