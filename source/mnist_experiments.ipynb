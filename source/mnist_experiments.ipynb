{
 "cells": [
  {
   "cell_type": "markdown",
   "metadata": {},
   "source": [
    "# notebook minist and different optimizers\n",
    "\n",
    "the basis is kaiminig optimization and batchnorm"
   ]
  },
  {
   "cell_type": "code",
   "execution_count": 1,
   "metadata": {},
   "outputs": [],
   "source": [
    "%load_ext autoreload\n",
    "%autoreload 2\n",
    "%matplotlib inline"
   ]
  },
  {
   "cell_type": "code",
   "execution_count": 2,
   "metadata": {},
   "outputs": [],
   "source": [
    "import torch\n",
    "from torch import *\n",
    "\n",
    "#let me be on my mac\n",
    "def cuda(self, device=None, non_blocking=False) : return self\n",
    "torch.Tensor.cuda = cuda"
   ]
  },
  {
   "cell_type": "code",
   "execution_count": 3,
   "metadata": {},
   "outputs": [],
   "source": [
    "from lib.modelmanager import *\n",
    "from lib.model import *\n",
    "from lib.data import *\n",
    "from lib.optimizers import *\n",
    "from lib.callbacks import *\n",
    "from lib.graphics import *\n",
    "from pathlib import Path\n",
    "from PIL import Image"
   ]
  },
  {
   "cell_type": "markdown",
   "metadata": {},
   "source": [
    "## mnist data"
   ]
  },
  {
   "cell_type": "code",
   "execution_count": 4,
   "metadata": {},
   "outputs": [
    {
     "data": {
      "text/plain": [
       "(tensor(-7.6999e-06), tensor(1.))"
      ]
     },
     "execution_count": 4,
     "metadata": {},
     "output_type": "execute_result"
    }
   ],
   "source": [
    "#mnist_path = Path(\"C:/Users/kl/.fastai/data/mnist.pkl.gz\")\n",
    "mnist_path = Path(\"/Users/kasparlund/.fastai/data/mnist.pkl.gz\")\n",
    "x_train,y_train,x_valid,y_valid = load_pickled_train_valid_data(mnist_path)\n",
    "train_mean, train_sd = x_train.mean(), x_train.std()\n",
    "x_train   = normalize( x_train, train_mean, train_sd)\n",
    "x_valid   = normalize( x_valid, train_mean, train_sd)\n",
    "\n",
    "x_train.mean(),x_train.std()"
   ]
  },
  {
   "cell_type": "code",
   "execution_count": 5,
   "metadata": {},
   "outputs": [
    {
     "name": "stdout",
     "output_type": "stream",
     "text": [
      "391\n",
      "20\n"
     ]
    },
    {
     "data": {
      "text/plain": [
       "(None, None)"
      ]
     },
     "execution_count": 5,
     "metadata": {},
     "output_type": "execute_result"
    }
   ],
   "source": [
    "nh,bs              = 50,128 #512\n",
    "train_ds,valid_ds  = Dataset(x_train, y_train),Dataset(x_valid, y_valid)\n",
    "train_dl, valid_dl = ( DataLoader( train_ds, batch_size=bs, shuffle=True), \n",
    "                        DataLoader(valid_ds,  batch_size=512) )\n",
    "#                        DataLoader(valid_ds,  batch_size=bs*2) )\n",
    "data               = DataBunch( train_dl, valid_dl, c_in=1, c_out=y_train.max().item()+1 )\n",
    "xb, _              = next(iter(train_dl))\n",
    "print(len(train_dl)), print(len(valid_dl))"
   ]
  },
  {
   "cell_type": "markdown",
   "metadata": {},
   "source": [
    "## Adam: steppers=[adam_step]"
   ]
  },
  {
   "cell_type": "code",
   "execution_count": 6,
   "metadata": {
    "code_folding": []
   },
   "outputs": [],
   "source": [
    "mnist_view   = view_tfm(1,28,28)\n",
    "layers_sizes = [8,16,32,32]\n",
    "loss_func    = F.cross_entropy\n",
    "sched        = combine_scheds([0.3, 0.7], [sched_cos(0.3, 0.6), sched_cos(0.6, 0.2)]) \n",
    "\n",
    "cbfs         = [TrainableModelCallback, TrainEvalCallback, OptimizerCallback, \n",
    "#                partial(CudaCallback, device= torch.device('cuda',0)),\n",
    "#                partial(ParamScheduler, 'lr', sched),\n",
    "                partial(BatchTransformXCallback, tfm = mnist_view), \n",
    "#                partial(MixUp,α=0.4),\n",
    "#                LR_Finder,\n",
    "                Recorder, \n",
    "                partial(AvgStatsCallback,[accuracy]),\n",
    "                ProgressCallback\n",
    "               ]\n",
    "\n"
   ]
  },
  {
   "cell_type": "code",
   "execution_count": 7,
   "metadata": {
    "scrolled": false
   },
   "outputs": [
    {
     "name": "stdout",
     "output_type": "stream",
     "text": [
      "train_mean:0.13044971227645874 train_sd:0.30728983879089355 np_image.shape:(28, 28)\n"
     ]
    },
    {
     "data": {
      "image/png": "[encoded data removed]",
      "text/plain": [
       "<PIL.Image.Image image mode=RGB size=28x28 at 0x12B7C0668>"
      ]
     },
     "execution_count": 7,
     "metadata": {},
     "output_type": "execute_result"
    }
   ],
   "source": [
    "#get the next image array an convert it to a 2d image\n",
    "tensor   = mnist_view(next(iter(train_dl))[0][0]).squeeze()\n",
    "np_image = denormalize(tensor, train_mean, train_sd).numpy()\n",
    "print(f\"train_mean:{train_mean} train_sd:{train_sd} np_image.shape:{np_image.shape}\")\n",
    "img = Image.fromarray( np.uint8(np_image*255) ).convert(\"RGB\")\n",
    "img"
   ]
  },
  {
   "cell_type": "code",
   "execution_count": 8,
   "metadata": {
    "scrolled": true
   },
   "outputs": [
    {
     "data": {
      "text/html": [
       "<table border=\"1\" class=\"dataframe\">\n",
       "  <thead>\n",
       "    <tr style=\"text-align: left;\">\n",
       "      <th>epoch</th>\n",
       "      <th>train_loss</th>\n",
       "      <th>train_accuracy</th>\n",
       "      <th>valid_loss</th>\n",
       "      <th>valid_accuracy</th>\n",
       "      <th>time</th>\n",
       "    </tr>\n",
       "  </thead>\n",
       "  <tbody>\n",
       "    <tr>\n",
       "      <td>0</td>\n",
       "      <td>0.266609</td>\n",
       "      <td>0.920720</td>\n",
       "      <td>0.123571</td>\n",
       "      <td>0.960600</td>\n",
       "      <td>01:45</td>\n",
       "    </tr>\n",
       "    <tr>\n",
       "      <td>1</td>\n",
       "      <td>0.088754</td>\n",
       "      <td>0.973360</td>\n",
       "      <td>0.067133</td>\n",
       "      <td>0.979700</td>\n",
       "      <td>01:43</td>\n",
       "    </tr>\n",
       "    <tr>\n",
       "      <td>2</td>\n",
       "      <td>0.063216</td>\n",
       "      <td>0.979420</td>\n",
       "      <td>0.061684</td>\n",
       "      <td>0.982900</td>\n",
       "      <td>01:43</td>\n",
       "    </tr>\n",
       "    <tr>\n",
       "      <td>3</td>\n",
       "      <td>0.043864</td>\n",
       "      <td>0.986040</td>\n",
       "      <td>0.047862</td>\n",
       "      <td>0.986200</td>\n",
       "      <td>01:42</td>\n",
       "    </tr>\n",
       "    <tr>\n",
       "      <td>4</td>\n",
       "      <td>0.032047</td>\n",
       "      <td>0.990180</td>\n",
       "      <td>0.040221</td>\n",
       "      <td>0.989300</td>\n",
       "      <td>01:42</td>\n",
       "    </tr>\n",
       "  </tbody>\n",
       "</table>"
      ],
      "text/plain": [
       "<IPython.core.display.HTML object>"
      ]
     },
     "metadata": {},
     "output_type": "display_data"
    },
    {
     "name": "stdout",
     "output_type": "stream",
     "text": [
      "CPU times: user 47min 40s, sys: 9min 47s, total: 57min 27s\n",
      "Wall time: 8min 37s\n"
     ]
    }
   ],
   "source": [
    "class RReLUOffset(torch.nn.ReLU):\n",
    "    def __init__(self, post_relu_offset = 0.15, random_range=0.1 ): #0.15915):\n",
    "        super().__init__(inplace=True)\n",
    "        self.register_buffer(\"offset\",torch.tensor(post_relu_offset, dtype=torch.float32))\n",
    "        self.register_buffer(\"random_range\",torch.tensor(random_range, dtype=torch.float32))\n",
    "        self.register_buffer(\"central_noise\",torch.tensor(post_relu_offset, dtype=torch.float32))\n",
    "        \n",
    "    def forward(self, x):\n",
    "        if self.training:\n",
    "            if not self.central_noise.size() == x.size():\n",
    "                self.central_noise = torch.zeros_like(x[0,:], dtype=torch.float32, requires_grad=False)\n",
    "            #nn.init.uniform_(self.central_noise, (self.offset-self.random_range).item(),(self.offset+self.random_range).item()) \n",
    "            #x = super().forward(x+self.central_noise) - self.central_noise\n",
    "            nn.init.uniform_(self.central_noise, (-self.random_range).item(),(self.random_range).item()) \n",
    "            x = super().forward(x+self.offset+self.central_noise) - self.offset\n",
    "        else:\n",
    "            #x = super().forward(x+self.central_noise) - self.central_noise\n",
    "            x = super().forward(x+self.offset) - self.offset\n",
    "        \n",
    "        return x\n",
    "\n",
    "class RLeakyReLU(torch.nn.LeakyReLU):\n",
    "    def __init__(self, negative_slope=0.22, random_range=0.1 ): #0.15915):\n",
    "        super().__init__(negative_slope=negative_slope, inplace=True)\n",
    "        self.register_buffer(\"random_range\",torch.tensor(random_range, dtype=torch.float32))\n",
    "        self.register_buffer(\"central_noise\",torch.tensor(0, dtype=torch.float32))\n",
    "        \n",
    "    def forward(self, x):\n",
    "        if self.training:\n",
    "            if not self.central_noise.size() == x.size():\n",
    "                self.central_noise = torch.zeros_like(x[0,:], dtype=torch.float32, requires_grad=False)\n",
    "            nn.init.uniform_(self.central_noise, (-self.random_range).item(),(self.random_range).item()) \n",
    "            x = super().forward(x+self.central_noise)\n",
    "        else:\n",
    "            x = super().forward(x)\n",
    "        \n",
    "        return x\n",
    "\n",
    "activ_func = partial(RReLUOffset,post_relu_offset = 0.15, random_range=0.15)\n",
    "#activ_func = partial(RReLUOffset,post_relu_offset = 0.10, random_range=0.1)\n",
    "#activ_func = partial(nn.SELU,inplace=True)\n",
    "#activ_func = nn.CELU\n",
    "#activ_func = partial(nn.RReLU,inplace=True)\n",
    "#activ_func = partial(nn.PReLU,num_parameters=1, init=0.25) \n",
    "#activ_func = partial(RLeakyReLU,negative_slope=0.22, random_range=0.1) \n",
    "#activ_func = partial(nn.LeakyReLU,negative_slope=0.22) \n",
    "#activ_func = partial(nn.ReLU,inplace=True)\n",
    "model = partial(xresnet18, c_in=data.c_in, c_out=data.c_out, activ_func=activ_func)()\n",
    "#model = get_cnn_model(layers_sizes, data.c_in, data.c_out, layer=layer)\n",
    "mm    = CnnModelManager( model )\n",
    "#mm.initialize(is_resnet=True, a=0, nonlinearity=\"relu\") #leaky_relu\n",
    "#mm.initialize(is_resnet=True, a=0.015, nonlinearity=\"leaky_relu\")\n",
    "mm.initialize(is_resnet=True, a=1e-2, nonlinearity=\"leaky_relu\")\n",
    "\n",
    "#opt   = Adam(sched,max_lr=3e-3, moms=(0.9,0.95), max_wd = 0)#1e-5)#1e-6)\n",
    "#opt   = Adam(sched,max_lr=8e-3, moms=(0.85,0.95), max_wd = 0)#1e-5)#1e-6)\n",
    "opt   = Adam(sched,max_lr=5e-3, moms=(0.85,0.95), max_wd = 0)#1e-5)#1e-6)\n",
    "#opt   = Adam(sched,max_lr=1e-3, moms=(0.85,0.95), max_wd = 0)#1e-5)#1e-6)\n",
    "learn = Learner( mm.model, data, loss_func=F.cross_entropy)\n",
    "%time learn.fit(5, opt=opt, cb_funcs=cbfs)\n",
    "#%time learn.fit(1, opt=opt, cb_funcs=cbfs.copy()+[partial(MixUp,α=0.2)])#α=0.025)])\n",
    "#%time learn.fit(5, opt=opt, cb_funcs=cbfs.copy()+[partial(MixUp,α=0.2),LRFinder])\n",
    "#%time learn.fit(1, opt=opt, cb_funcs=cbfs.copy()+[LRFinder])\n"
   ]
  },
  {
   "cell_type": "raw",
   "metadata": {},
   "source": [
    "nn.RReLU\n",
    "epoch\ttrain_loss\ttrain_accuracy\tvalid_loss\tvalid_accuracy\ttime\n",
    "0\t0.250436\t0.923400\t0.053989\t0.983200\t02:04\n",
    "RReLUOffset,post_relu_offset = 0.15, random_range=0.15\n",
    "epoch\ttrain_loss\ttrain_accuracy\tvalid_loss\tvalid_accuracy\ttime\n",
    "0\t0.257909\t0.922340\t0.062117\t0.980600\t01:39"
   ]
  },
  {
   "cell_type": "code",
   "execution_count": 9,
   "metadata": {},
   "outputs": [
    {
     "data": {
      "image/png": "[encoded data removed]",
      "text/plain": [
       "<Figure size 432x288 with 1 Axes>"
      ]
     },
     "metadata": {
      "needs_background": "light"
     },
     "output_type": "display_data"
    },
    {
     "data": {
      "text/plain": [
       "(None, None)"
      ]
     },
     "execution_count": 9,
     "metadata": {},
     "output_type": "execute_result"
    }
   ],
   "source": [
    "learn.find_subcription_by_cls(Recorder).plot_loss(),plt.show()\n",
    "#learn.find_subcription_by_cls(LRFinder).plot_loss(skip_end=2),plt.show()\n",
    "#mm.summary(mnist_view(xb))"
   ]
  },
  {
   "cell_type": "raw",
   "metadata": {},
   "source": [
    "mm.summary(mnist_view(xb))\n",
    "#print(dict(mm.model.named_buffers()).keys())"
   ]
  }
 ],
 "metadata": {
  "kernelspec": {
   "display_name": "Python 3",
   "language": "python",
   "name": "python3"
  },
  "language_info": {
   "codemirror_mode": {
    "name": "ipython",
    "version": 3
   },
   "file_extension": ".py",
   "mimetype": "text/x-python",
   "name": "python",
   "nbconvert_exporter": "python",
   "pygments_lexer": "ipython3",
   "version": "3.7.2"
  }
 },
 "nbformat": 4,
 "nbformat_minor": 2
}
